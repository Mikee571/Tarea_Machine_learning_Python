{
 "cells": [
  {
   "cell_type": "markdown",
   "metadata": {},
   "source": [
    "##  Importar bibliotecas relevantes"
   ]
  },
  {
   "cell_type": "code",
   "execution_count": 55,
   "metadata": {},
   "outputs": [],
   "source": [
    "import numpy as np\n",
    "import matplotlib.pyplot as plt\n",
    "import pandas as pd\n",
    "from functools import reduce\n",
    "from datetime import datetime\n",
    "import seaborn as sn\n",
    "from statsmodels.stats.outliers_influence import variance_inflation_factor\n",
    "\n",
    "from sklearn.datasets import make_classification\n",
    "from sklearn.model_selection import train_test_split\n",
    "from sklearn.linear_model import LogisticRegression\n",
    "from sklearn.tree import DecisionTreeClassifier\n",
    "from sklearn.ensemble import RandomForestClassifier\n",
    "from sklearn.svm import SVC\n",
    "from sklearn import naive_bayes\n",
    "\n",
    "\n",
    "from sklearn.metrics import roc_curve\n",
    "\n",
    "from sklearn.metrics import accuracy_score, auc, confusion_matrix, f1_score, precision_score, recall_score, roc_curve\n"
   ]
  },
  {
   "cell_type": "markdown",
   "metadata": {},
   "source": [
    "## Cargar Datasets\n"
   ]
  },
  {
   "cell_type": "code",
   "execution_count": 56,
   "metadata": {},
   "outputs": [],
   "source": [
    "Clientes_Diciembre = pd.read_csv('clientes_diciembre.csv',sep = '|')\n",
    "Consumos_Diciembre = pd.read_csv('consumos_diciembre.csv',sep = '|')\n",
    "Financiacion_Diciembre = pd.read_csv('financiacion_diciembre.csv',sep = '|')\n",
    "Productos_Diciembre = pd.read_csv('productos_diciembre.csv',sep = '|')\n",
    "\n",
    "Clientes_Enero = pd.read_csv('clientes_enero.csv',sep = '|')\n",
    "Consumos_Enero = pd.read_csv('consumos_enero.csv',sep = '|')\n",
    "Financiacion_Enero = pd.read_csv('financiacion_enero.csv',sep = '|')\n",
    "Productos_Enero = pd.read_csv('productos_enero.csv',sep = '|')"
   ]
  },
  {
   "cell_type": "code",
   "execution_count": 57,
   "metadata": {},
   "outputs": [],
   "source": [
    "Diciembre = [Clientes_Diciembre,Consumos_Diciembre,Financiacion_Diciembre,Productos_Diciembre]\n",
    "Enero = [Clientes_Enero,Consumos_Enero,Financiacion_Enero,Productos_Enero]"
   ]
  },
  {
   "cell_type": "code",
   "execution_count": 58,
   "metadata": {},
   "outputs": [],
   "source": [
    "df_diciembre = reduce(lambda left,right:pd.merge(left,right, on = ['id'],how='left'),Diciembre)\n",
    "df_enero = reduce(lambda left,right:pd.merge(left,right, on = ['id'],how='left'),Enero)"
   ]
  },
  {
   "cell_type": "markdown",
   "metadata": {},
   "source": [
    "### Target"
   ]
  },
  {
   "cell_type": "code",
   "execution_count": 59,
   "metadata": {},
   "outputs": [],
   "source": [
    "df_churn=df_diciembre"
   ]
  },
  {
   "cell_type": "code",
   "execution_count": 60,
   "metadata": {},
   "outputs": [
    {
     "data": {
      "text/plain": [
       "False"
      ]
     },
     "execution_count": 60,
     "metadata": {},
     "output_type": "execute_result"
    }
   ],
   "source": [
    "# Reviso si hay duplicados\n",
    "boolean = df_churn['id'].duplicated().any()\n",
    "boolean "
   ]
  },
  {
   "cell_type": "code",
   "execution_count": 61,
   "metadata": {},
   "outputs": [],
   "source": [
    "Fuga= (~Clientes_Diciembre['id'].isin(Clientes_Enero['id'])).astype('int')\n",
    "df_churn.insert(1,'Fuga',Fuga) "
   ]
  },
  {
   "cell_type": "code",
   "execution_count": 62,
   "metadata": {},
   "outputs": [
    {
     "data": {
      "text/plain": [
       "0    88382\n",
       "1     7085\n",
       "Name: Fuga, dtype: int64"
      ]
     },
     "execution_count": 62,
     "metadata": {},
     "output_type": "execute_result"
    }
   ],
   "source": [
    "df_churn['Fuga'].value_counts()"
   ]
  },
  {
   "cell_type": "code",
   "execution_count": 63,
   "metadata": {},
   "outputs": [
    {
     "data": {
      "text/html": [
       "<div>\n",
       "<style scoped>\n",
       "    .dataframe tbody tr th:only-of-type {\n",
       "        vertical-align: middle;\n",
       "    }\n",
       "\n",
       "    .dataframe tbody tr th {\n",
       "        vertical-align: top;\n",
       "    }\n",
       "\n",
       "    .dataframe thead th {\n",
       "        text-align: right;\n",
       "    }\n",
       "</style>\n",
       "<table border=\"1\" class=\"dataframe\">\n",
       "  <thead>\n",
       "    <tr style=\"text-align: right;\">\n",
       "      <th></th>\n",
       "      <th>id</th>\n",
       "      <th>Fuga</th>\n",
       "      <th>edad</th>\n",
       "      <th>facturacion</th>\n",
       "      <th>antiguedad</th>\n",
       "      <th>provincia</th>\n",
       "      <th>num_lineas</th>\n",
       "      <th>num_dt</th>\n",
       "      <th>incidencia</th>\n",
       "      <th>num_llamad_ent</th>\n",
       "      <th>num_llamad_sal</th>\n",
       "      <th>mb_datos</th>\n",
       "      <th>seg_llamad_ent</th>\n",
       "      <th>seg_llamad_sal</th>\n",
       "      <th>financiacion</th>\n",
       "      <th>imp_financ</th>\n",
       "      <th>descuentos</th>\n",
       "      <th>conexion</th>\n",
       "      <th>vel_conexion</th>\n",
       "      <th>TV</th>\n",
       "    </tr>\n",
       "  </thead>\n",
       "  <tbody>\n",
       "    <tr>\n",
       "      <th>0</th>\n",
       "      <td>1</td>\n",
       "      <td>0</td>\n",
       "      <td>63</td>\n",
       "      <td>216.028109</td>\n",
       "      <td>2018-11-23 08:48:00</td>\n",
       "      <td>La Rioja</td>\n",
       "      <td>5</td>\n",
       "      <td>NaN</td>\n",
       "      <td>NaN</td>\n",
       "      <td>110</td>\n",
       "      <td>79</td>\n",
       "      <td>10897</td>\n",
       "      <td>12806</td>\n",
       "      <td>13751</td>\n",
       "      <td>NaN</td>\n",
       "      <td>NaN</td>\n",
       "      <td>NaN</td>\n",
       "      <td>FIBRA</td>\n",
       "      <td>50MB</td>\n",
       "      <td>tv-futbol</td>\n",
       "    </tr>\n",
       "    <tr>\n",
       "      <th>1</th>\n",
       "      <td>2</td>\n",
       "      <td>0</td>\n",
       "      <td>84</td>\n",
       "      <td>255.830842</td>\n",
       "      <td>2017-08-22 03:19:00</td>\n",
       "      <td>Vizcaya</td>\n",
       "      <td>3</td>\n",
       "      <td>NaN</td>\n",
       "      <td>NaN</td>\n",
       "      <td>189</td>\n",
       "      <td>89</td>\n",
       "      <td>18657</td>\n",
       "      <td>6499</td>\n",
       "      <td>10862</td>\n",
       "      <td>NaN</td>\n",
       "      <td>NaN</td>\n",
       "      <td>SI</td>\n",
       "      <td>FIBRA</td>\n",
       "      <td>600MB</td>\n",
       "      <td>tv-futbol</td>\n",
       "    </tr>\n",
       "    <tr>\n",
       "      <th>2</th>\n",
       "      <td>3</td>\n",
       "      <td>0</td>\n",
       "      <td>66</td>\n",
       "      <td>135.768153</td>\n",
       "      <td>2001-12-27 13:50:00</td>\n",
       "      <td>Albacete</td>\n",
       "      <td>4</td>\n",
       "      <td>NaN</td>\n",
       "      <td>NaN</td>\n",
       "      <td>129</td>\n",
       "      <td>30</td>\n",
       "      <td>15511</td>\n",
       "      <td>17013</td>\n",
       "      <td>16743</td>\n",
       "      <td>NaN</td>\n",
       "      <td>NaN</td>\n",
       "      <td>SI</td>\n",
       "      <td>ADSL</td>\n",
       "      <td>35MB</td>\n",
       "      <td>tv-futbol</td>\n",
       "    </tr>\n",
       "    <tr>\n",
       "      <th>3</th>\n",
       "      <td>4</td>\n",
       "      <td>0</td>\n",
       "      <td>69</td>\n",
       "      <td>255.658527</td>\n",
       "      <td>2015-08-08 10:53:00</td>\n",
       "      <td>Lugo</td>\n",
       "      <td>4</td>\n",
       "      <td>NaN</td>\n",
       "      <td>NaN</td>\n",
       "      <td>51</td>\n",
       "      <td>52</td>\n",
       "      <td>12670</td>\n",
       "      <td>3393</td>\n",
       "      <td>6771</td>\n",
       "      <td>NaN</td>\n",
       "      <td>NaN</td>\n",
       "      <td>NaN</td>\n",
       "      <td>FIBRA</td>\n",
       "      <td>200MB</td>\n",
       "      <td>tv-familiar</td>\n",
       "    </tr>\n",
       "    <tr>\n",
       "      <th>4</th>\n",
       "      <td>5</td>\n",
       "      <td>1</td>\n",
       "      <td>30</td>\n",
       "      <td>22.302845</td>\n",
       "      <td>1997-08-29 02:19:00</td>\n",
       "      <td>Tarragona</td>\n",
       "      <td>2</td>\n",
       "      <td>2.0</td>\n",
       "      <td>NaN</td>\n",
       "      <td>183</td>\n",
       "      <td>3</td>\n",
       "      <td>23756</td>\n",
       "      <td>18436</td>\n",
       "      <td>4485</td>\n",
       "      <td>NaN</td>\n",
       "      <td>NaN</td>\n",
       "      <td>NaN</td>\n",
       "      <td>ADSL</td>\n",
       "      <td>10MB</td>\n",
       "      <td>tv-futbol</td>\n",
       "    </tr>\n",
       "    <tr>\n",
       "      <th>5</th>\n",
       "      <td>6</td>\n",
       "      <td>0</td>\n",
       "      <td>51</td>\n",
       "      <td>99.348645</td>\n",
       "      <td>1997-11-04 11:43:00</td>\n",
       "      <td>Huelva</td>\n",
       "      <td>4</td>\n",
       "      <td>NaN</td>\n",
       "      <td>NaN</td>\n",
       "      <td>204</td>\n",
       "      <td>51</td>\n",
       "      <td>18428</td>\n",
       "      <td>8956</td>\n",
       "      <td>4764</td>\n",
       "      <td>NaN</td>\n",
       "      <td>NaN</td>\n",
       "      <td>NaN</td>\n",
       "      <td>FIBRA</td>\n",
       "      <td>200MB</td>\n",
       "      <td>tv-futbol</td>\n",
       "    </tr>\n",
       "    <tr>\n",
       "      <th>6</th>\n",
       "      <td>7</td>\n",
       "      <td>0</td>\n",
       "      <td>55</td>\n",
       "      <td>88.062883</td>\n",
       "      <td>1996-06-14 01:44:00</td>\n",
       "      <td>Lérida</td>\n",
       "      <td>4</td>\n",
       "      <td>NaN</td>\n",
       "      <td>NaN</td>\n",
       "      <td>217</td>\n",
       "      <td>43</td>\n",
       "      <td>80</td>\n",
       "      <td>16406</td>\n",
       "      <td>19797</td>\n",
       "      <td>SI</td>\n",
       "      <td>31.553269</td>\n",
       "      <td>NaN</td>\n",
       "      <td>ADSL</td>\n",
       "      <td>25MB</td>\n",
       "      <td>tv-futbol</td>\n",
       "    </tr>\n",
       "    <tr>\n",
       "      <th>7</th>\n",
       "      <td>8</td>\n",
       "      <td>0</td>\n",
       "      <td>21</td>\n",
       "      <td>73.076377</td>\n",
       "      <td>2004-07-02 12:35:00</td>\n",
       "      <td>La Coruña</td>\n",
       "      <td>4</td>\n",
       "      <td>NaN</td>\n",
       "      <td>NaN</td>\n",
       "      <td>38</td>\n",
       "      <td>73</td>\n",
       "      <td>19850</td>\n",
       "      <td>11503</td>\n",
       "      <td>19279</td>\n",
       "      <td>NaN</td>\n",
       "      <td>NaN</td>\n",
       "      <td>NaN</td>\n",
       "      <td>ADSL</td>\n",
       "      <td>30MB</td>\n",
       "      <td>tv-futbol</td>\n",
       "    </tr>\n",
       "    <tr>\n",
       "      <th>8</th>\n",
       "      <td>9</td>\n",
       "      <td>0</td>\n",
       "      <td>30</td>\n",
       "      <td>395.481514</td>\n",
       "      <td>2018-03-26 22:22:00</td>\n",
       "      <td>Alicante</td>\n",
       "      <td>3</td>\n",
       "      <td>NaN</td>\n",
       "      <td>NaN</td>\n",
       "      <td>5</td>\n",
       "      <td>74</td>\n",
       "      <td>4854</td>\n",
       "      <td>19518</td>\n",
       "      <td>382</td>\n",
       "      <td>NaN</td>\n",
       "      <td>NaN</td>\n",
       "      <td>NaN</td>\n",
       "      <td>ADSL</td>\n",
       "      <td>35MB</td>\n",
       "      <td>tv-total</td>\n",
       "    </tr>\n",
       "    <tr>\n",
       "      <th>9</th>\n",
       "      <td>10</td>\n",
       "      <td>1</td>\n",
       "      <td>23</td>\n",
       "      <td>378.134025</td>\n",
       "      <td>2000-02-18 13:23:00</td>\n",
       "      <td>Madrid</td>\n",
       "      <td>5</td>\n",
       "      <td>1.0</td>\n",
       "      <td>NaN</td>\n",
       "      <td>35</td>\n",
       "      <td>89</td>\n",
       "      <td>10188</td>\n",
       "      <td>8889</td>\n",
       "      <td>4748</td>\n",
       "      <td>NaN</td>\n",
       "      <td>NaN</td>\n",
       "      <td>NaN</td>\n",
       "      <td>ADSL</td>\n",
       "      <td>600MB</td>\n",
       "      <td>tv-total</td>\n",
       "    </tr>\n",
       "  </tbody>\n",
       "</table>\n",
       "</div>"
      ],
      "text/plain": [
       "   id  Fuga  edad  facturacion           antiguedad  provincia  num_lineas  \\\n",
       "0   1     0    63   216.028109  2018-11-23 08:48:00   La Rioja           5   \n",
       "1   2     0    84   255.830842  2017-08-22 03:19:00    Vizcaya           3   \n",
       "2   3     0    66   135.768153  2001-12-27 13:50:00   Albacete           4   \n",
       "3   4     0    69   255.658527  2015-08-08 10:53:00       Lugo           4   \n",
       "4   5     1    30    22.302845  1997-08-29 02:19:00  Tarragona           2   \n",
       "5   6     0    51    99.348645  1997-11-04 11:43:00     Huelva           4   \n",
       "6   7     0    55    88.062883  1996-06-14 01:44:00     Lérida           4   \n",
       "7   8     0    21    73.076377  2004-07-02 12:35:00  La Coruña           4   \n",
       "8   9     0    30   395.481514  2018-03-26 22:22:00   Alicante           3   \n",
       "9  10     1    23   378.134025  2000-02-18 13:23:00     Madrid           5   \n",
       "\n",
       "   num_dt incidencia  num_llamad_ent  num_llamad_sal  mb_datos  \\\n",
       "0     NaN        NaN             110              79     10897   \n",
       "1     NaN        NaN             189              89     18657   \n",
       "2     NaN        NaN             129              30     15511   \n",
       "3     NaN        NaN              51              52     12670   \n",
       "4     2.0        NaN             183               3     23756   \n",
       "5     NaN        NaN             204              51     18428   \n",
       "6     NaN        NaN             217              43        80   \n",
       "7     NaN        NaN              38              73     19850   \n",
       "8     NaN        NaN               5              74      4854   \n",
       "9     1.0        NaN              35              89     10188   \n",
       "\n",
       "   seg_llamad_ent  seg_llamad_sal financiacion  imp_financ descuentos  \\\n",
       "0           12806           13751          NaN         NaN        NaN   \n",
       "1            6499           10862          NaN         NaN         SI   \n",
       "2           17013           16743          NaN         NaN         SI   \n",
       "3            3393            6771          NaN         NaN        NaN   \n",
       "4           18436            4485          NaN         NaN        NaN   \n",
       "5            8956            4764          NaN         NaN        NaN   \n",
       "6           16406           19797           SI   31.553269        NaN   \n",
       "7           11503           19279          NaN         NaN        NaN   \n",
       "8           19518             382          NaN         NaN        NaN   \n",
       "9            8889            4748          NaN         NaN        NaN   \n",
       "\n",
       "  conexion vel_conexion           TV  \n",
       "0    FIBRA         50MB    tv-futbol  \n",
       "1    FIBRA        600MB    tv-futbol  \n",
       "2     ADSL         35MB    tv-futbol  \n",
       "3    FIBRA        200MB  tv-familiar  \n",
       "4     ADSL         10MB    tv-futbol  \n",
       "5    FIBRA        200MB    tv-futbol  \n",
       "6     ADSL         25MB    tv-futbol  \n",
       "7     ADSL         30MB    tv-futbol  \n",
       "8     ADSL         35MB     tv-total  \n",
       "9     ADSL        600MB     tv-total  "
      ]
     },
     "execution_count": 63,
     "metadata": {},
     "output_type": "execute_result"
    }
   ],
   "source": [
    "df_churn.head(10)"
   ]
  },
  {
   "cell_type": "markdown",
   "metadata": {},
   "source": [
    "### Preprocesar Datos"
   ]
  },
  {
   "cell_type": "code",
   "execution_count": 64,
   "metadata": {},
   "outputs": [
    {
     "data": {
      "text/plain": [
       "0        11/23/2018 08:48 AM\n",
       "1        08/22/2017 03:19 AM\n",
       "2        12/27/2001 01:50 PM\n",
       "3        08/08/2015 10:53 AM\n",
       "4        11/04/1997 11:43 AM\n",
       "                ...         \n",
       "92706    04/09/2013 01:33 PM\n",
       "92707    08/08/2003 11:57 PM\n",
       "92708    03/27/2013 08:07 PM\n",
       "92709    01/18/2020 02:30 AM\n",
       "92710    10/22/2009 07:17 PM\n",
       "Name: antiguedad, Length: 92711, dtype: object"
      ]
     },
     "execution_count": 64,
     "metadata": {},
     "output_type": "execute_result"
    }
   ],
   "source": [
    "df_enero['antiguedad']"
   ]
  },
  {
   "cell_type": "code",
   "execution_count": 65,
   "metadata": {},
   "outputs": [],
   "source": [
    "df_diciembre['antiguedad']=pd.to_datetime(df_diciembre['antiguedad'])\n",
    "df_enero['antiguedad']=pd.to_datetime(df_enero['antiguedad'])"
   ]
  },
  {
   "cell_type": "code",
   "execution_count": 66,
   "metadata": {},
   "outputs": [
    {
     "data": {
      "text/plain": [
       "0       2018-11-23 08:48:00\n",
       "1       2017-08-22 03:19:00\n",
       "2       2001-12-27 13:50:00\n",
       "3       2015-08-08 10:53:00\n",
       "4       1997-11-04 11:43:00\n",
       "                ...        \n",
       "92706   2013-04-09 13:33:00\n",
       "92707   2003-08-08 23:57:00\n",
       "92708   2013-03-27 20:07:00\n",
       "92709   2020-01-18 02:30:00\n",
       "92710   2009-10-22 19:17:00\n",
       "Name: antiguedad, Length: 92711, dtype: datetime64[ns]"
      ]
     },
     "execution_count": 66,
     "metadata": {},
     "output_type": "execute_result"
    }
   ],
   "source": [
    "df_enero['antiguedad']"
   ]
  },
  {
   "cell_type": "code",
   "execution_count": 67,
   "metadata": {},
   "outputs": [
    {
     "data": {
      "text/plain": [
       "0       2018-11-23 08:48:00\n",
       "1       2017-08-22 03:19:00\n",
       "2       2001-12-27 13:50:00\n",
       "3       2015-08-08 10:53:00\n",
       "4       1997-08-29 02:19:00\n",
       "                ...        \n",
       "95462   2019-03-05 00:00:00\n",
       "95463   2013-04-09 13:33:00\n",
       "95464   2003-08-08 23:57:00\n",
       "95465   2013-03-27 20:07:00\n",
       "95466   2009-10-22 19:17:00\n",
       "Name: antiguedad, Length: 95467, dtype: datetime64[ns]"
      ]
     },
     "execution_count": 67,
     "metadata": {},
     "output_type": "execute_result"
    }
   ],
   "source": [
    "df_diciembre['antiguedad']"
   ]
  },
  {
   "cell_type": "code",
   "execution_count": 68,
   "metadata": {},
   "outputs": [
    {
     "data": {
      "text/plain": [
       "array(['La Rioja', 'Vizcaya', 'Albacete', 'Lugo', 'Huelva', 'Lérida',\n",
       "       'La Coruña', 'Alicante', 'Córdoba', 'Las Palmas', 'Soria',\n",
       "       'Zamora', 'Granada', 'Palencia', 'Burgos', 'Teruel', 'Navarra',\n",
       "       'Guipúzcoa', 'Valencia', 'Málaga', 'Sevilla', 'Huesca',\n",
       "       'Valladolid', 'Cádiz', 'Jaén', 'Cuenca', 'Badajoz', 'Almería',\n",
       "       'Ciudad Real', 'Salamanca', 'Segovia', 'Tarragona', 'Asturias',\n",
       "       'Islas Baleares', 'Álava', 'Cáceres', 'Cantabria', 'Zaragoza',\n",
       "       'Murcia', 'León', 'Toledo', 'Pontevedra', 'Guadalajara', 'Ávila',\n",
       "       'Santa Cruz de Tenerife', 'Castellón', 'Madrid', 'Gerona',\n",
       "       'Barcelona', 'Orense'], dtype=object)"
      ]
     },
     "execution_count": 68,
     "metadata": {},
     "output_type": "execute_result"
    }
   ],
   "source": [
    "df_enero['provincia'].unique()"
   ]
  },
  {
   "cell_type": "code",
   "execution_count": 69,
   "metadata": {},
   "outputs": [
    {
     "data": {
      "text/plain": [
       "array(['La Rioja', 'Vizcaya', 'Albacete', 'Lugo', 'Tarragona', 'Huelva',\n",
       "       'Lérida', 'La Coruña', 'Alicante', 'Madrid', 'Córdoba',\n",
       "       'Las Palmas', 'Soria', 'Zamora', 'Valladolid', 'Granada',\n",
       "       'Palencia', 'Burgos', 'Teruel', 'Navarra', 'Guipúzcoa', 'Valencia',\n",
       "       'Málaga', 'Sevilla', 'Huesca', 'Cádiz', 'Jaén', 'Cuenca',\n",
       "       'Badajoz', 'Almería', 'Ciudad Real', 'Salamanca', 'Pontevedra',\n",
       "       'Segovia', 'Asturias', 'Islas Baleares', 'Álava', 'Cáceres',\n",
       "       'Orense', 'Cantabria', 'Zaragoza', 'Murcia', 'León', 'Toledo',\n",
       "       'Guadalajara', 'Ávila', 'Santa Cruz de Tenerife', 'Castellón',\n",
       "       'Gerona', 'Barcelona'], dtype=object)"
      ]
     },
     "execution_count": 69,
     "metadata": {},
     "output_type": "execute_result"
    }
   ],
   "source": [
    "df_churn['provincia'].unique()"
   ]
  },
  {
   "cell_type": "code",
   "execution_count": 70,
   "metadata": {},
   "outputs": [],
   "source": [
    "df_churn['provincia'] = df_churn['provincia'].replace({'Almería','Cádiz','Córdoba','Granada','Huelva','Jaén','Málaga','Sevilla'},'Andalucía')\n",
    "df_churn['provincia'] = df_churn['provincia'].replace({'Huesca','Teruel','Zaragoza'},'Aragón')\n",
    "df_churn['provincia'] = df_churn['provincia'].replace({'Asturias'},'Principado de Asturias')\n",
    "df_churn['provincia'] = df_churn['provincia'].replace({'Islas Baleares'},'Islas Baleares')\n",
    "df_churn['provincia'] = df_churn['provincia'].replace({'Las Palmas','Santa Cruz de Tenerife'},'Canarias')\n",
    "df_churn['provincia'] = df_churn['provincia'].replace({'Cantabria'},'Cantabria')\n",
    "df_churn['provincia'] = df_churn['provincia'].replace({'Albacete','Ciudad Real','Cuenca','Guadalajara','Toledo'},'Castilla-La Mancha')\n",
    "df_churn['provincia'] = df_churn['provincia'].replace({'Ávila','Burgos','León','Palencia','Salamanca','Segovia','Soria','Valladolid','Zamora'},'Castilla y Léon')\n",
    "df_churn['provincia'] = df_churn['provincia'].replace({'Barcelona','Gerona','Lérida','Tarragona'},'Cataluña')\n",
    "df_churn['provincia'] = df_churn['provincia'].replace({'Alicante','Castellón','Valencia'},'Comunidad Valenciana')\n",
    "df_churn['provincia'] = df_churn['provincia'].replace({'Badajoz','Cáceres'},'Extremadura')\n",
    "df_churn['provincia'] = df_churn['provincia'].replace({'La Rioja'},'La Rioja')\n",
    "df_churn['provincia'] = df_churn['provincia'].replace({'Madrid'},'Comunidad de Madrid')\n",
    "df_churn['provincia'] = df_churn['provincia'].replace({'Murcia'},'Región de Murcia')\n",
    "df_churn['provincia'] = df_churn['provincia'].replace({'Navarra'},'Comunidad Foral de Navarra')\n",
    "df_churn['provincia'] = df_churn['provincia'].replace({'La Coruña','Lugo','Orense','Pontevedra'},'Galicia')\n",
    "df_churn['provincia'] = df_churn['provincia'].replace({'Álava','Guipúzcoa','Vizcaya'},'País Vasco')\n",
    "\n",
    "df_enero['provincia'] = df_enero['provincia'].replace({'Almería','Cádiz','Córdoba','Granada','Huelva','Jaén','Málaga','Sevilla'},'Andalucía')\n",
    "df_enero['provincia'] = df_enero['provincia'].replace({'Huesca','Teruel','Zaragoza'},'Aragón')\n",
    "df_enero['provincia'] = df_enero['provincia'].replace({'Asturias'},'Principado de Asturias')\n",
    "df_enero['provincia'] = df_enero['provincia'].replace({'Islas Baleares'},'Islas Baleares')\n",
    "df_enero['provincia'] = df_enero['provincia'].replace({'Las Palmas','Santa Cruz de Tenerife'},'Canarias')\n",
    "df_enero['provincia'] = df_enero['provincia'].replace({'Cantabria'},'Cantabria')\n",
    "df_enero['provincia'] = df_enero['provincia'].replace({'Albacete','Ciudad Real','Cuenca','Guadalajara','Toledo'},'Castilla-La Mancha')\n",
    "df_enero['provincia'] = df_enero['provincia'].replace({'Ávila','Burgos','León','Palencia','Salamanca','Segovia','Soria','Valladolid','Zamora'},'Castilla y Léon')\n",
    "df_enero['provincia'] = df_enero['provincia'].replace({'Barcelona','Gerona','Lérida','Tarragona'},'Cataluña')\n",
    "df_enero['provincia'] = df_enero['provincia'].replace({'Alicante','Castellón','Valencia'},'Comunidad Valenciana')\n",
    "df_enero['provincia'] = df_enero['provincia'].replace({'Badajoz','Cáceres'},'Extremadura')\n",
    "df_enero['provincia'] = df_enero['provincia'].replace({'La Rioja'},'La Rioja')\n",
    "df_enero['provincia'] = df_enero['provincia'].replace({'Madrid'},'Comunidad de Madrid')\n",
    "df_enero['provincia'] = df_enero['provincia'].replace({'Murcia'},'Región de Murcia')\n",
    "df_enero['provincia'] = df_enero['provincia'].replace({'Navarra'},'Comunidad Foral de Navarra')\n",
    "df_enero['provincia'] = df_enero['provincia'].replace({'La Coruña','Lugo','Orense','Pontevedra'},'Galicia')\n",
    "df_enero['provincia'] = df_enero['provincia'].replace({'Álava','Guipúzcoa','Vizcaya'},'País Vasco')"
   ]
  },
  {
   "cell_type": "code",
   "execution_count": 71,
   "metadata": {},
   "outputs": [
    {
     "data": {
      "text/plain": [
       "array(['La Rioja', 'País Vasco', 'Castilla-La Mancha', 'Galicia',\n",
       "       'Cataluña', 'Andalucía', 'Comunidad Valenciana',\n",
       "       'Comunidad de Madrid', 'Canarias', 'Castilla y Léon', 'Aragón',\n",
       "       'Comunidad Foral de Navarra', 'Extremadura',\n",
       "       'Principado de Asturias', 'Islas Baleares', 'Cantabria',\n",
       "       'Región de Murcia'], dtype=object)"
      ]
     },
     "execution_count": 71,
     "metadata": {},
     "output_type": "execute_result"
    }
   ],
   "source": [
    "df_churn['provincia'].unique()"
   ]
  },
  {
   "cell_type": "code",
   "execution_count": 72,
   "metadata": {},
   "outputs": [],
   "source": [
    "df_churn.rename(columns={'provincia':'Comunidad'},inplace=True)\n",
    "df_enero.rename(columns={'provincia':'Comunidad'},inplace=True)"
   ]
  },
  {
   "cell_type": "code",
   "execution_count": 73,
   "metadata": {},
   "outputs": [
    {
     "data": {
      "text/html": [
       "<div>\n",
       "<style scoped>\n",
       "    .dataframe tbody tr th:only-of-type {\n",
       "        vertical-align: middle;\n",
       "    }\n",
       "\n",
       "    .dataframe tbody tr th {\n",
       "        vertical-align: top;\n",
       "    }\n",
       "\n",
       "    .dataframe thead th {\n",
       "        text-align: right;\n",
       "    }\n",
       "</style>\n",
       "<table border=\"1\" class=\"dataframe\">\n",
       "  <thead>\n",
       "    <tr style=\"text-align: right;\">\n",
       "      <th></th>\n",
       "      <th>id</th>\n",
       "      <th>Fuga</th>\n",
       "      <th>edad</th>\n",
       "      <th>facturacion</th>\n",
       "      <th>antiguedad</th>\n",
       "      <th>Comunidad</th>\n",
       "      <th>num_lineas</th>\n",
       "      <th>num_dt</th>\n",
       "      <th>incidencia</th>\n",
       "      <th>num_llamad_ent</th>\n",
       "      <th>num_llamad_sal</th>\n",
       "      <th>mb_datos</th>\n",
       "      <th>seg_llamad_ent</th>\n",
       "      <th>seg_llamad_sal</th>\n",
       "      <th>financiacion</th>\n",
       "      <th>imp_financ</th>\n",
       "      <th>descuentos</th>\n",
       "      <th>conexion</th>\n",
       "      <th>vel_conexion</th>\n",
       "      <th>TV</th>\n",
       "    </tr>\n",
       "  </thead>\n",
       "  <tbody>\n",
       "    <tr>\n",
       "      <th>0</th>\n",
       "      <td>1</td>\n",
       "      <td>0</td>\n",
       "      <td>63</td>\n",
       "      <td>216.028109</td>\n",
       "      <td>403 days</td>\n",
       "      <td>La Rioja</td>\n",
       "      <td>5</td>\n",
       "      <td>NaN</td>\n",
       "      <td>NaN</td>\n",
       "      <td>110</td>\n",
       "      <td>79</td>\n",
       "      <td>10897</td>\n",
       "      <td>12806</td>\n",
       "      <td>13751</td>\n",
       "      <td>NaN</td>\n",
       "      <td>NaN</td>\n",
       "      <td>NaN</td>\n",
       "      <td>FIBRA</td>\n",
       "      <td>50MB</td>\n",
       "      <td>tv-futbol</td>\n",
       "    </tr>\n",
       "    <tr>\n",
       "      <th>1</th>\n",
       "      <td>2</td>\n",
       "      <td>0</td>\n",
       "      <td>84</td>\n",
       "      <td>255.830842</td>\n",
       "      <td>861 days</td>\n",
       "      <td>País Vasco</td>\n",
       "      <td>3</td>\n",
       "      <td>NaN</td>\n",
       "      <td>NaN</td>\n",
       "      <td>189</td>\n",
       "      <td>89</td>\n",
       "      <td>18657</td>\n",
       "      <td>6499</td>\n",
       "      <td>10862</td>\n",
       "      <td>NaN</td>\n",
       "      <td>NaN</td>\n",
       "      <td>SI</td>\n",
       "      <td>FIBRA</td>\n",
       "      <td>600MB</td>\n",
       "      <td>tv-futbol</td>\n",
       "    </tr>\n",
       "    <tr>\n",
       "      <th>2</th>\n",
       "      <td>3</td>\n",
       "      <td>0</td>\n",
       "      <td>66</td>\n",
       "      <td>135.768153</td>\n",
       "      <td>6578 days</td>\n",
       "      <td>Castilla-La Mancha</td>\n",
       "      <td>4</td>\n",
       "      <td>NaN</td>\n",
       "      <td>NaN</td>\n",
       "      <td>129</td>\n",
       "      <td>30</td>\n",
       "      <td>15511</td>\n",
       "      <td>17013</td>\n",
       "      <td>16743</td>\n",
       "      <td>NaN</td>\n",
       "      <td>NaN</td>\n",
       "      <td>SI</td>\n",
       "      <td>ADSL</td>\n",
       "      <td>35MB</td>\n",
       "      <td>tv-futbol</td>\n",
       "    </tr>\n",
       "    <tr>\n",
       "      <th>3</th>\n",
       "      <td>4</td>\n",
       "      <td>0</td>\n",
       "      <td>69</td>\n",
       "      <td>255.658527</td>\n",
       "      <td>1606 days</td>\n",
       "      <td>Galicia</td>\n",
       "      <td>4</td>\n",
       "      <td>NaN</td>\n",
       "      <td>NaN</td>\n",
       "      <td>51</td>\n",
       "      <td>52</td>\n",
       "      <td>12670</td>\n",
       "      <td>3393</td>\n",
       "      <td>6771</td>\n",
       "      <td>NaN</td>\n",
       "      <td>NaN</td>\n",
       "      <td>NaN</td>\n",
       "      <td>FIBRA</td>\n",
       "      <td>200MB</td>\n",
       "      <td>tv-familiar</td>\n",
       "    </tr>\n",
       "    <tr>\n",
       "      <th>4</th>\n",
       "      <td>5</td>\n",
       "      <td>1</td>\n",
       "      <td>30</td>\n",
       "      <td>22.302845</td>\n",
       "      <td>8159 days</td>\n",
       "      <td>Cataluña</td>\n",
       "      <td>2</td>\n",
       "      <td>2.0</td>\n",
       "      <td>NaN</td>\n",
       "      <td>183</td>\n",
       "      <td>3</td>\n",
       "      <td>23756</td>\n",
       "      <td>18436</td>\n",
       "      <td>4485</td>\n",
       "      <td>NaN</td>\n",
       "      <td>NaN</td>\n",
       "      <td>NaN</td>\n",
       "      <td>ADSL</td>\n",
       "      <td>10MB</td>\n",
       "      <td>tv-futbol</td>\n",
       "    </tr>\n",
       "    <tr>\n",
       "      <th>5</th>\n",
       "      <td>6</td>\n",
       "      <td>0</td>\n",
       "      <td>51</td>\n",
       "      <td>99.348645</td>\n",
       "      <td>8092 days</td>\n",
       "      <td>Andalucía</td>\n",
       "      <td>4</td>\n",
       "      <td>NaN</td>\n",
       "      <td>NaN</td>\n",
       "      <td>204</td>\n",
       "      <td>51</td>\n",
       "      <td>18428</td>\n",
       "      <td>8956</td>\n",
       "      <td>4764</td>\n",
       "      <td>NaN</td>\n",
       "      <td>NaN</td>\n",
       "      <td>NaN</td>\n",
       "      <td>FIBRA</td>\n",
       "      <td>200MB</td>\n",
       "      <td>tv-futbol</td>\n",
       "    </tr>\n",
       "    <tr>\n",
       "      <th>6</th>\n",
       "      <td>7</td>\n",
       "      <td>0</td>\n",
       "      <td>55</td>\n",
       "      <td>88.062883</td>\n",
       "      <td>8600 days</td>\n",
       "      <td>Cataluña</td>\n",
       "      <td>4</td>\n",
       "      <td>NaN</td>\n",
       "      <td>NaN</td>\n",
       "      <td>217</td>\n",
       "      <td>43</td>\n",
       "      <td>80</td>\n",
       "      <td>16406</td>\n",
       "      <td>19797</td>\n",
       "      <td>SI</td>\n",
       "      <td>31.553269</td>\n",
       "      <td>NaN</td>\n",
       "      <td>ADSL</td>\n",
       "      <td>25MB</td>\n",
       "      <td>tv-futbol</td>\n",
       "    </tr>\n",
       "    <tr>\n",
       "      <th>7</th>\n",
       "      <td>8</td>\n",
       "      <td>0</td>\n",
       "      <td>21</td>\n",
       "      <td>73.076377</td>\n",
       "      <td>5660 days</td>\n",
       "      <td>Galicia</td>\n",
       "      <td>4</td>\n",
       "      <td>NaN</td>\n",
       "      <td>NaN</td>\n",
       "      <td>38</td>\n",
       "      <td>73</td>\n",
       "      <td>19850</td>\n",
       "      <td>11503</td>\n",
       "      <td>19279</td>\n",
       "      <td>NaN</td>\n",
       "      <td>NaN</td>\n",
       "      <td>NaN</td>\n",
       "      <td>ADSL</td>\n",
       "      <td>30MB</td>\n",
       "      <td>tv-futbol</td>\n",
       "    </tr>\n",
       "    <tr>\n",
       "      <th>8</th>\n",
       "      <td>9</td>\n",
       "      <td>0</td>\n",
       "      <td>30</td>\n",
       "      <td>395.481514</td>\n",
       "      <td>645 days</td>\n",
       "      <td>Comunidad Valenciana</td>\n",
       "      <td>3</td>\n",
       "      <td>NaN</td>\n",
       "      <td>NaN</td>\n",
       "      <td>5</td>\n",
       "      <td>74</td>\n",
       "      <td>4854</td>\n",
       "      <td>19518</td>\n",
       "      <td>382</td>\n",
       "      <td>NaN</td>\n",
       "      <td>NaN</td>\n",
       "      <td>NaN</td>\n",
       "      <td>ADSL</td>\n",
       "      <td>35MB</td>\n",
       "      <td>tv-total</td>\n",
       "    </tr>\n",
       "    <tr>\n",
       "      <th>9</th>\n",
       "      <td>10</td>\n",
       "      <td>1</td>\n",
       "      <td>23</td>\n",
       "      <td>378.134025</td>\n",
       "      <td>7256 days</td>\n",
       "      <td>Comunidad de Madrid</td>\n",
       "      <td>5</td>\n",
       "      <td>1.0</td>\n",
       "      <td>NaN</td>\n",
       "      <td>35</td>\n",
       "      <td>89</td>\n",
       "      <td>10188</td>\n",
       "      <td>8889</td>\n",
       "      <td>4748</td>\n",
       "      <td>NaN</td>\n",
       "      <td>NaN</td>\n",
       "      <td>NaN</td>\n",
       "      <td>ADSL</td>\n",
       "      <td>600MB</td>\n",
       "      <td>tv-total</td>\n",
       "    </tr>\n",
       "  </tbody>\n",
       "</table>\n",
       "</div>"
      ],
      "text/plain": [
       "   id  Fuga  edad  facturacion antiguedad             Comunidad  num_lineas  \\\n",
       "0   1     0    63   216.028109   403 days              La Rioja           5   \n",
       "1   2     0    84   255.830842   861 days            País Vasco           3   \n",
       "2   3     0    66   135.768153  6578 days    Castilla-La Mancha           4   \n",
       "3   4     0    69   255.658527  1606 days               Galicia           4   \n",
       "4   5     1    30    22.302845  8159 days              Cataluña           2   \n",
       "5   6     0    51    99.348645  8092 days             Andalucía           4   \n",
       "6   7     0    55    88.062883  8600 days              Cataluña           4   \n",
       "7   8     0    21    73.076377  5660 days               Galicia           4   \n",
       "8   9     0    30   395.481514   645 days  Comunidad Valenciana           3   \n",
       "9  10     1    23   378.134025  7256 days   Comunidad de Madrid           5   \n",
       "\n",
       "   num_dt incidencia  num_llamad_ent  num_llamad_sal  mb_datos  \\\n",
       "0     NaN        NaN             110              79     10897   \n",
       "1     NaN        NaN             189              89     18657   \n",
       "2     NaN        NaN             129              30     15511   \n",
       "3     NaN        NaN              51              52     12670   \n",
       "4     2.0        NaN             183               3     23756   \n",
       "5     NaN        NaN             204              51     18428   \n",
       "6     NaN        NaN             217              43        80   \n",
       "7     NaN        NaN              38              73     19850   \n",
       "8     NaN        NaN               5              74      4854   \n",
       "9     1.0        NaN              35              89     10188   \n",
       "\n",
       "   seg_llamad_ent  seg_llamad_sal financiacion  imp_financ descuentos  \\\n",
       "0           12806           13751          NaN         NaN        NaN   \n",
       "1            6499           10862          NaN         NaN         SI   \n",
       "2           17013           16743          NaN         NaN         SI   \n",
       "3            3393            6771          NaN         NaN        NaN   \n",
       "4           18436            4485          NaN         NaN        NaN   \n",
       "5            8956            4764          NaN         NaN        NaN   \n",
       "6           16406           19797           SI   31.553269        NaN   \n",
       "7           11503           19279          NaN         NaN        NaN   \n",
       "8           19518             382          NaN         NaN        NaN   \n",
       "9            8889            4748          NaN         NaN        NaN   \n",
       "\n",
       "  conexion vel_conexion           TV  \n",
       "0    FIBRA         50MB    tv-futbol  \n",
       "1    FIBRA        600MB    tv-futbol  \n",
       "2     ADSL         35MB    tv-futbol  \n",
       "3    FIBRA        200MB  tv-familiar  \n",
       "4     ADSL         10MB    tv-futbol  \n",
       "5    FIBRA        200MB    tv-futbol  \n",
       "6     ADSL         25MB    tv-futbol  \n",
       "7     ADSL         30MB    tv-futbol  \n",
       "8     ADSL         35MB     tv-total  \n",
       "9     ADSL        600MB     tv-total  "
      ]
     },
     "execution_count": 73,
     "metadata": {},
     "output_type": "execute_result"
    }
   ],
   "source": [
    "ahora = datetime(2019,12,31,23,59)\n",
    "ahora=pd.to_datetime(ahora)\n",
    "duracion = ahora - df_diciembre['antiguedad']\n",
    "duracion = duracion.dt.floor('d')\n",
    "df_churn['antiguedad'] = duracion\n",
    "df_churn.head(10)\n"
   ]
  },
  {
   "cell_type": "code",
   "execution_count": 74,
   "metadata": {},
   "outputs": [
    {
     "data": {
      "text/html": [
       "<div>\n",
       "<style scoped>\n",
       "    .dataframe tbody tr th:only-of-type {\n",
       "        vertical-align: middle;\n",
       "    }\n",
       "\n",
       "    .dataframe tbody tr th {\n",
       "        vertical-align: top;\n",
       "    }\n",
       "\n",
       "    .dataframe thead th {\n",
       "        text-align: right;\n",
       "    }\n",
       "</style>\n",
       "<table border=\"1\" class=\"dataframe\">\n",
       "  <thead>\n",
       "    <tr style=\"text-align: right;\">\n",
       "      <th></th>\n",
       "      <th>id</th>\n",
       "      <th>edad</th>\n",
       "      <th>facturacion</th>\n",
       "      <th>antiguedad</th>\n",
       "      <th>Comunidad</th>\n",
       "      <th>num_lineas</th>\n",
       "      <th>num_dt</th>\n",
       "      <th>incidencia</th>\n",
       "      <th>num_llamad_ent</th>\n",
       "      <th>num_llamad_sal</th>\n",
       "      <th>mb_datos</th>\n",
       "      <th>seg_llamad_ent</th>\n",
       "      <th>seg_llamad_sal</th>\n",
       "      <th>financiacion</th>\n",
       "      <th>imp_financ</th>\n",
       "      <th>descuentos</th>\n",
       "      <th>conexion</th>\n",
       "      <th>vel_conexion</th>\n",
       "      <th>TV</th>\n",
       "    </tr>\n",
       "  </thead>\n",
       "  <tbody>\n",
       "    <tr>\n",
       "      <th>0</th>\n",
       "      <td>1</td>\n",
       "      <td>63</td>\n",
       "      <td>216.028109</td>\n",
       "      <td>434 days</td>\n",
       "      <td>La Rioja</td>\n",
       "      <td>5</td>\n",
       "      <td>NaN</td>\n",
       "      <td>NaN</td>\n",
       "      <td>95</td>\n",
       "      <td>19</td>\n",
       "      <td>6525</td>\n",
       "      <td>7634</td>\n",
       "      <td>18520</td>\n",
       "      <td>NaN</td>\n",
       "      <td>NaN</td>\n",
       "      <td>NaN</td>\n",
       "      <td>FIBRA</td>\n",
       "      <td>50MB</td>\n",
       "      <td>tv-futbol</td>\n",
       "    </tr>\n",
       "    <tr>\n",
       "      <th>1</th>\n",
       "      <td>2</td>\n",
       "      <td>84</td>\n",
       "      <td>255.830842</td>\n",
       "      <td>892 days</td>\n",
       "      <td>País Vasco</td>\n",
       "      <td>3</td>\n",
       "      <td>NaN</td>\n",
       "      <td>NaN</td>\n",
       "      <td>44</td>\n",
       "      <td>36</td>\n",
       "      <td>14471</td>\n",
       "      <td>14541</td>\n",
       "      <td>8016</td>\n",
       "      <td>NaN</td>\n",
       "      <td>NaN</td>\n",
       "      <td>SI</td>\n",
       "      <td>FIBRA</td>\n",
       "      <td>600MB</td>\n",
       "      <td>tv-futbol</td>\n",
       "    </tr>\n",
       "    <tr>\n",
       "      <th>2</th>\n",
       "      <td>3</td>\n",
       "      <td>66</td>\n",
       "      <td>135.768153</td>\n",
       "      <td>6609 days</td>\n",
       "      <td>Castilla-La Mancha</td>\n",
       "      <td>4</td>\n",
       "      <td>NaN</td>\n",
       "      <td>NaN</td>\n",
       "      <td>94</td>\n",
       "      <td>27</td>\n",
       "      <td>1428</td>\n",
       "      <td>5248</td>\n",
       "      <td>7106</td>\n",
       "      <td>NaN</td>\n",
       "      <td>NaN</td>\n",
       "      <td>SI</td>\n",
       "      <td>ADSL</td>\n",
       "      <td>35MB</td>\n",
       "      <td>tv-futbol</td>\n",
       "    </tr>\n",
       "    <tr>\n",
       "      <th>3</th>\n",
       "      <td>4</td>\n",
       "      <td>69</td>\n",
       "      <td>255.658527</td>\n",
       "      <td>1637 days</td>\n",
       "      <td>Galicia</td>\n",
       "      <td>4</td>\n",
       "      <td>NaN</td>\n",
       "      <td>NaN</td>\n",
       "      <td>186</td>\n",
       "      <td>20</td>\n",
       "      <td>20083</td>\n",
       "      <td>7372</td>\n",
       "      <td>5052</td>\n",
       "      <td>NaN</td>\n",
       "      <td>NaN</td>\n",
       "      <td>NaN</td>\n",
       "      <td>FIBRA</td>\n",
       "      <td>200MB</td>\n",
       "      <td>tv-familiar</td>\n",
       "    </tr>\n",
       "    <tr>\n",
       "      <th>4</th>\n",
       "      <td>6</td>\n",
       "      <td>51</td>\n",
       "      <td>99.348645</td>\n",
       "      <td>8123 days</td>\n",
       "      <td>Andalucía</td>\n",
       "      <td>4</td>\n",
       "      <td>NaN</td>\n",
       "      <td>NaN</td>\n",
       "      <td>37</td>\n",
       "      <td>32</td>\n",
       "      <td>19078</td>\n",
       "      <td>5009</td>\n",
       "      <td>8686</td>\n",
       "      <td>NaN</td>\n",
       "      <td>NaN</td>\n",
       "      <td>NaN</td>\n",
       "      <td>FIBRA</td>\n",
       "      <td>200MB</td>\n",
       "      <td>tv-futbol</td>\n",
       "    </tr>\n",
       "    <tr>\n",
       "      <th>...</th>\n",
       "      <td>...</td>\n",
       "      <td>...</td>\n",
       "      <td>...</td>\n",
       "      <td>...</td>\n",
       "      <td>...</td>\n",
       "      <td>...</td>\n",
       "      <td>...</td>\n",
       "      <td>...</td>\n",
       "      <td>...</td>\n",
       "      <td>...</td>\n",
       "      <td>...</td>\n",
       "      <td>...</td>\n",
       "      <td>...</td>\n",
       "      <td>...</td>\n",
       "      <td>...</td>\n",
       "      <td>...</td>\n",
       "      <td>...</td>\n",
       "      <td>...</td>\n",
       "      <td>...</td>\n",
       "    </tr>\n",
       "    <tr>\n",
       "      <th>92706</th>\n",
       "      <td>99996</td>\n",
       "      <td>36</td>\n",
       "      <td>215.890326</td>\n",
       "      <td>2488 days</td>\n",
       "      <td>Castilla-La Mancha</td>\n",
       "      <td>3</td>\n",
       "      <td>NaN</td>\n",
       "      <td>NaN</td>\n",
       "      <td>217</td>\n",
       "      <td>96</td>\n",
       "      <td>9059</td>\n",
       "      <td>7735</td>\n",
       "      <td>8823</td>\n",
       "      <td>NaN</td>\n",
       "      <td>NaN</td>\n",
       "      <td>NaN</td>\n",
       "      <td>ADSL</td>\n",
       "      <td>30MB</td>\n",
       "      <td>tv-futbol</td>\n",
       "    </tr>\n",
       "    <tr>\n",
       "      <th>92707</th>\n",
       "      <td>99997</td>\n",
       "      <td>68</td>\n",
       "      <td>285.890750</td>\n",
       "      <td>6020 days</td>\n",
       "      <td>Principado de Asturias</td>\n",
       "      <td>5</td>\n",
       "      <td>NaN</td>\n",
       "      <td>NaN</td>\n",
       "      <td>168</td>\n",
       "      <td>99</td>\n",
       "      <td>9303</td>\n",
       "      <td>4798</td>\n",
       "      <td>3996</td>\n",
       "      <td>SI</td>\n",
       "      <td>14.616422</td>\n",
       "      <td>NaN</td>\n",
       "      <td>FIBRA</td>\n",
       "      <td>200MB</td>\n",
       "      <td>tv-futbol</td>\n",
       "    </tr>\n",
       "    <tr>\n",
       "      <th>92708</th>\n",
       "      <td>99998</td>\n",
       "      <td>20</td>\n",
       "      <td>383.167610</td>\n",
       "      <td>2501 days</td>\n",
       "      <td>País Vasco</td>\n",
       "      <td>4</td>\n",
       "      <td>NaN</td>\n",
       "      <td>NaN</td>\n",
       "      <td>188</td>\n",
       "      <td>71</td>\n",
       "      <td>19018</td>\n",
       "      <td>1237</td>\n",
       "      <td>16720</td>\n",
       "      <td>NaN</td>\n",
       "      <td>NaN</td>\n",
       "      <td>NaN</td>\n",
       "      <td>ADSL</td>\n",
       "      <td>20MB</td>\n",
       "      <td>tv-futbol</td>\n",
       "    </tr>\n",
       "    <tr>\n",
       "      <th>92709</th>\n",
       "      <td>99999</td>\n",
       "      <td>53</td>\n",
       "      <td>53.301395</td>\n",
       "      <td>13 days</td>\n",
       "      <td>Andalucía</td>\n",
       "      <td>2</td>\n",
       "      <td>NaN</td>\n",
       "      <td>NaN</td>\n",
       "      <td>138</td>\n",
       "      <td>40</td>\n",
       "      <td>20264</td>\n",
       "      <td>10552</td>\n",
       "      <td>17637</td>\n",
       "      <td>NaN</td>\n",
       "      <td>NaN</td>\n",
       "      <td>NaN</td>\n",
       "      <td>FIBRA</td>\n",
       "      <td>50MB</td>\n",
       "      <td>tv-futbol</td>\n",
       "    </tr>\n",
       "    <tr>\n",
       "      <th>92710</th>\n",
       "      <td>100000</td>\n",
       "      <td>18</td>\n",
       "      <td>57.158927</td>\n",
       "      <td>3753 days</td>\n",
       "      <td>Canarias</td>\n",
       "      <td>4</td>\n",
       "      <td>NaN</td>\n",
       "      <td>NaN</td>\n",
       "      <td>217</td>\n",
       "      <td>65</td>\n",
       "      <td>21772</td>\n",
       "      <td>14141</td>\n",
       "      <td>927</td>\n",
       "      <td>NaN</td>\n",
       "      <td>NaN</td>\n",
       "      <td>SI</td>\n",
       "      <td>ADSL</td>\n",
       "      <td>25MB</td>\n",
       "      <td>tv-familiar</td>\n",
       "    </tr>\n",
       "  </tbody>\n",
       "</table>\n",
       "<p>92711 rows × 19 columns</p>\n",
       "</div>"
      ],
      "text/plain": [
       "           id  edad  facturacion antiguedad               Comunidad  \\\n",
       "0           1    63   216.028109   434 days                La Rioja   \n",
       "1           2    84   255.830842   892 days              País Vasco   \n",
       "2           3    66   135.768153  6609 days      Castilla-La Mancha   \n",
       "3           4    69   255.658527  1637 days                 Galicia   \n",
       "4           6    51    99.348645  8123 days               Andalucía   \n",
       "...       ...   ...          ...        ...                     ...   \n",
       "92706   99996    36   215.890326  2488 days      Castilla-La Mancha   \n",
       "92707   99997    68   285.890750  6020 days  Principado de Asturias   \n",
       "92708   99998    20   383.167610  2501 days              País Vasco   \n",
       "92709   99999    53    53.301395    13 days               Andalucía   \n",
       "92710  100000    18    57.158927  3753 days                Canarias   \n",
       "\n",
       "       num_lineas  num_dt incidencia  num_llamad_ent  num_llamad_sal  \\\n",
       "0               5     NaN        NaN              95              19   \n",
       "1               3     NaN        NaN              44              36   \n",
       "2               4     NaN        NaN              94              27   \n",
       "3               4     NaN        NaN             186              20   \n",
       "4               4     NaN        NaN              37              32   \n",
       "...           ...     ...        ...             ...             ...   \n",
       "92706           3     NaN        NaN             217              96   \n",
       "92707           5     NaN        NaN             168              99   \n",
       "92708           4     NaN        NaN             188              71   \n",
       "92709           2     NaN        NaN             138              40   \n",
       "92710           4     NaN        NaN             217              65   \n",
       "\n",
       "       mb_datos  seg_llamad_ent  seg_llamad_sal financiacion  imp_financ  \\\n",
       "0          6525            7634           18520          NaN         NaN   \n",
       "1         14471           14541            8016          NaN         NaN   \n",
       "2          1428            5248            7106          NaN         NaN   \n",
       "3         20083            7372            5052          NaN         NaN   \n",
       "4         19078            5009            8686          NaN         NaN   \n",
       "...         ...             ...             ...          ...         ...   \n",
       "92706      9059            7735            8823          NaN         NaN   \n",
       "92707      9303            4798            3996           SI   14.616422   \n",
       "92708     19018            1237           16720          NaN         NaN   \n",
       "92709     20264           10552           17637          NaN         NaN   \n",
       "92710     21772           14141             927          NaN         NaN   \n",
       "\n",
       "      descuentos conexion vel_conexion           TV  \n",
       "0            NaN    FIBRA         50MB    tv-futbol  \n",
       "1             SI    FIBRA        600MB    tv-futbol  \n",
       "2             SI     ADSL         35MB    tv-futbol  \n",
       "3            NaN    FIBRA        200MB  tv-familiar  \n",
       "4            NaN    FIBRA        200MB    tv-futbol  \n",
       "...          ...      ...          ...          ...  \n",
       "92706        NaN     ADSL         30MB    tv-futbol  \n",
       "92707        NaN    FIBRA        200MB    tv-futbol  \n",
       "92708        NaN     ADSL         20MB    tv-futbol  \n",
       "92709        NaN    FIBRA         50MB    tv-futbol  \n",
       "92710         SI     ADSL         25MB  tv-familiar  \n",
       "\n",
       "[92711 rows x 19 columns]"
      ]
     },
     "execution_count": 74,
     "metadata": {},
     "output_type": "execute_result"
    }
   ],
   "source": [
    "ahora_enero = datetime(2020,1,31,23,59)\n",
    "ahora_enero=pd.to_datetime(ahora_enero)\n",
    "\n",
    "duracion2 = ahora_enero - df_enero['antiguedad']\n",
    "duracion2 = duracion2.dt.floor('d')\n",
    "df_enero['antiguedad'] = duracion2\n",
    "df_enero"
   ]
  },
  {
   "cell_type": "code",
   "execution_count": 75,
   "metadata": {},
   "outputs": [
    {
     "data": {
      "text/plain": [
       "id                          int64\n",
       "Fuga                        int32\n",
       "edad                        int64\n",
       "facturacion               float64\n",
       "antiguedad        timedelta64[ns]\n",
       "Comunidad                  object\n",
       "num_lineas                  int64\n",
       "num_dt                    float64\n",
       "incidencia                 object\n",
       "num_llamad_ent              int64\n",
       "num_llamad_sal              int64\n",
       "mb_datos                    int64\n",
       "seg_llamad_ent              int64\n",
       "seg_llamad_sal              int64\n",
       "financiacion               object\n",
       "imp_financ                float64\n",
       "descuentos                 object\n",
       "conexion                   object\n",
       "vel_conexion               object\n",
       "TV                         object\n",
       "dtype: object"
      ]
     },
     "execution_count": 75,
     "metadata": {},
     "output_type": "execute_result"
    }
   ],
   "source": [
    "df_churn.dtypes"
   ]
  },
  {
   "cell_type": "code",
   "execution_count": 76,
   "metadata": {},
   "outputs": [],
   "source": [
    "df_churn[['num_dt','imp_financ']] = df_churn[['num_dt','imp_financ']].fillna(0)\n",
    "df_churn[['incidencia','financiacion','descuentos']] = df_churn[['incidencia','financiacion','descuentos']].fillna('No')\n",
    "\n",
    "\n",
    "df_enero[['num_dt','imp_financ']] = df_enero[['num_dt','imp_financ']].fillna(0)\n",
    "df_enero[['incidencia','financiacion','descuentos']] = df_enero[['incidencia','financiacion','descuentos']].fillna('No')\n"
   ]
  },
  {
   "cell_type": "code",
   "execution_count": 77,
   "metadata": {},
   "outputs": [
    {
     "data": {
      "text/plain": [
       "array(['50MB', '600MB', '35MB', '200MB', '10MB', '25MB', '30MB', '100MB',\n",
       "       '16598', '20MB', '300MB', '15MB', nan, '1', '?'], dtype=object)"
      ]
     },
     "execution_count": 77,
     "metadata": {},
     "output_type": "execute_result"
    }
   ],
   "source": [
    "df_churn['vel_conexion'].unique()"
   ]
  },
  {
   "cell_type": "code",
   "execution_count": 78,
   "metadata": {},
   "outputs": [
    {
     "data": {
      "text/plain": [
       "array(['50MB', '600MB', '35MB', '200MB', '25MB', '30MB', '10MB', '100MB',\n",
       "       '20MB', '300MB', '15MB', nan], dtype=object)"
      ]
     },
     "execution_count": 78,
     "metadata": {},
     "output_type": "execute_result"
    }
   ],
   "source": [
    "df_enero['vel_conexion'].unique()"
   ]
  },
  {
   "cell_type": "markdown",
   "metadata": {},
   "source": [
    "Se remueven los caracteres de MB y reemplazo los Nan, ?,1,'' y el 16598 que son elementos anomalos."
   ]
  },
  {
   "cell_type": "code",
   "execution_count": 79,
   "metadata": {},
   "outputs": [
    {
     "name": "stderr",
     "output_type": "stream",
     "text": [
      "<ipython-input-79-f49f7e2de96d>:1: FutureWarning: The default value of regex will change from True to False in a future version.\n",
      "  df_churn['vel_conexion'] = df_churn['vel_conexion'].str.replace(r'\\D','')\n",
      "<ipython-input-79-f49f7e2de96d>:2: FutureWarning: The default value of regex will change from True to False in a future version.\n",
      "  df_enero['vel_conexion'] = df_enero['vel_conexion'].str.replace(r'\\D','')\n"
     ]
    }
   ],
   "source": [
    "df_churn['vel_conexion'] = df_churn['vel_conexion'].str.replace(r'\\D','')\n",
    "df_enero['vel_conexion'] = df_enero['vel_conexion'].str.replace(r'\\D','')"
   ]
  },
  {
   "cell_type": "code",
   "execution_count": 80,
   "metadata": {},
   "outputs": [],
   "source": [
    "df_churn['vel_conexion'].fillna(df_churn['vel_conexion'].mode()[0], inplace=True)\n",
    "df_enero['vel_conexion'].fillna(df_enero['vel_conexion'].mode()[0], inplace=True)\n",
    "\n",
    "df_churn['vel_conexion'] = df_churn['vel_conexion'].replace({'?','1','',16598},200)\n"
   ]
  },
  {
   "cell_type": "markdown",
   "metadata": {},
   "source": [
    "Se convierte a entero"
   ]
  },
  {
   "cell_type": "code",
   "execution_count": 81,
   "metadata": {},
   "outputs": [],
   "source": [
    "df_churn['vel_conexion'] = df_churn['vel_conexion'].astype(str).astype(int)\n",
    "df_enero['vel_conexion'] = df_enero['vel_conexion'].astype(str).astype(int)"
   ]
  },
  {
   "cell_type": "markdown",
   "metadata": {},
   "source": [
    "Reviso que no queden NAs"
   ]
  },
  {
   "cell_type": "code",
   "execution_count": 82,
   "metadata": {},
   "outputs": [
    {
     "data": {
      "text/plain": [
       "id                False\n",
       "Fuga              False\n",
       "edad              False\n",
       "facturacion       False\n",
       "antiguedad        False\n",
       "Comunidad         False\n",
       "num_lineas        False\n",
       "num_dt            False\n",
       "incidencia        False\n",
       "num_llamad_ent    False\n",
       "num_llamad_sal    False\n",
       "mb_datos          False\n",
       "seg_llamad_ent    False\n",
       "seg_llamad_sal    False\n",
       "financiacion      False\n",
       "imp_financ        False\n",
       "descuentos        False\n",
       "conexion          False\n",
       "vel_conexion      False\n",
       "TV                False\n",
       "dtype: bool"
      ]
     },
     "execution_count": 82,
     "metadata": {},
     "output_type": "execute_result"
    }
   ],
   "source": [
    "\n",
    "df_churn.isna().any()"
   ]
  },
  {
   "cell_type": "markdown",
   "metadata": {},
   "source": [
    "Quizas aca podrian ir unos grafiquitos"
   ]
  },
  {
   "cell_type": "code",
   "execution_count": 147,
   "metadata": {},
   "outputs": [
    {
     "data": {
      "image/png": "[encoded data removed]",
      "text/plain": [
       "<Figure size 1080x864 with 3 Axes>"
      ]
     },
     "metadata": {
      "needs_background": "light"
     },
     "output_type": "display_data"
    }
   ],
   "source": [
    "dataset2 = df_churn[['edad', 'facturacion', 'antiguedad']]\n",
    "\n",
    "#Histogram:\n",
    "    \n",
    "fig = plt.figure(figsize=(15, 12))\n",
    "plt.suptitle('Histograms of Numerical Columns\\n',horizontalalignment=\"center\",fontstyle = \"normal\", fontsize = 24, fontfamily = \"sans-serif\")\n",
    "for i in range(dataset2.shape[1]):\n",
    "    plt.subplot(6, 3, i + 1)\n",
    "    f = plt.gca()\n",
    "    f.set_title(dataset2.columns.values[i])\n",
    "\n",
    "    vals = np.size(dataset2.iloc[:, i].unique())\n",
    "    if vals >= 100:\n",
    "        vals = 100\n",
    "    \n",
    "    plt.hist(dataset2.iloc[:, i], bins=vals, color = '#ec838a')\n",
    "plt.tight_layout(rect=[0, 0.03, 1, 0.95])"
   ]
  },
  {
   "cell_type": "code",
   "execution_count": 83,
   "metadata": {},
   "outputs": [
    {
     "data": {
      "text/plain": [
       "array([ 0.        , 31.55326856, 28.51874706, ..., 28.35559612,\n",
       "       23.13877851, 14.61642214])"
      ]
     },
     "execution_count": 83,
     "metadata": {},
     "output_type": "execute_result"
    }
   ],
   "source": [
    "df_churn['imp_financ'].unique()"
   ]
  },
  {
   "cell_type": "code",
   "execution_count": 84,
   "metadata": {},
   "outputs": [
    {
     "data": {
      "text/plain": [
       "array(['No', 'SI'], dtype=object)"
      ]
     },
     "execution_count": 84,
     "metadata": {},
     "output_type": "execute_result"
    }
   ],
   "source": [
    "df_churn['incidencia'].unique()"
   ]
  },
  {
   "cell_type": "code",
   "execution_count": 85,
   "metadata": {},
   "outputs": [
    {
     "data": {
      "text/plain": [
       "array(['No', 'SI'], dtype=object)"
      ]
     },
     "execution_count": 85,
     "metadata": {},
     "output_type": "execute_result"
    }
   ],
   "source": [
    "df_churn['financiacion'].unique()"
   ]
  },
  {
   "cell_type": "code",
   "execution_count": 86,
   "metadata": {},
   "outputs": [
    {
     "data": {
      "text/plain": [
       "array(['No', 'SI'], dtype=object)"
      ]
     },
     "execution_count": 86,
     "metadata": {},
     "output_type": "execute_result"
    }
   ],
   "source": [
    "df_churn['descuentos'].unique()"
   ]
  },
  {
   "cell_type": "markdown",
   "metadata": {},
   "source": [
    "Convertir a dummies"
   ]
  },
  {
   "cell_type": "code",
   "execution_count": 87,
   "metadata": {},
   "outputs": [],
   "source": [
    "\n",
    "df_churn['incidencia'] = pd.get_dummies(df_churn['incidencia'],drop_first=True)\n",
    "df_churn['financiacion'] = pd.get_dummies(df_churn['financiacion'],drop_first=True )\n",
    "df_churn['descuentos'] = pd.get_dummies(df_churn['descuentos'] )\n"
   ]
  },
  {
   "cell_type": "code",
   "execution_count": 88,
   "metadata": {},
   "outputs": [],
   "source": [
    "df_enero['incidencia'] = pd.get_dummies(df_enero['incidencia'],drop_first=True)\n",
    "df_enero['financiacion'] = pd.get_dummies(df_enero['financiacion'],drop_first=True )\n",
    "df_enero['descuentos'] = pd.get_dummies(df_enero['descuentos'] )"
   ]
  },
  {
   "cell_type": "markdown",
   "metadata": {},
   "source": [
    "En incidencia, financiacion y descuento el 0 represta al No.\n",
    "En incidencia, financiacion y descuento el 1 represta al Si."
   ]
  },
  {
   "cell_type": "code",
   "execution_count": 89,
   "metadata": {},
   "outputs": [
    {
     "data": {
      "text/html": [
       "<div>\n",
       "<style scoped>\n",
       "    .dataframe tbody tr th:only-of-type {\n",
       "        vertical-align: middle;\n",
       "    }\n",
       "\n",
       "    .dataframe tbody tr th {\n",
       "        vertical-align: top;\n",
       "    }\n",
       "\n",
       "    .dataframe thead th {\n",
       "        text-align: right;\n",
       "    }\n",
       "</style>\n",
       "<table border=\"1\" class=\"dataframe\">\n",
       "  <thead>\n",
       "    <tr style=\"text-align: right;\">\n",
       "      <th></th>\n",
       "      <th>id</th>\n",
       "      <th>Fuga</th>\n",
       "      <th>edad</th>\n",
       "      <th>facturacion</th>\n",
       "      <th>antiguedad</th>\n",
       "      <th>Comunidad</th>\n",
       "      <th>num_lineas</th>\n",
       "      <th>num_dt</th>\n",
       "      <th>incidencia</th>\n",
       "      <th>num_llamad_ent</th>\n",
       "      <th>num_llamad_sal</th>\n",
       "      <th>mb_datos</th>\n",
       "      <th>seg_llamad_ent</th>\n",
       "      <th>seg_llamad_sal</th>\n",
       "      <th>financiacion</th>\n",
       "      <th>imp_financ</th>\n",
       "      <th>descuentos</th>\n",
       "      <th>conexion</th>\n",
       "      <th>vel_conexion</th>\n",
       "      <th>TV</th>\n",
       "    </tr>\n",
       "  </thead>\n",
       "  <tbody>\n",
       "    <tr>\n",
       "      <th>0</th>\n",
       "      <td>1</td>\n",
       "      <td>0</td>\n",
       "      <td>63</td>\n",
       "      <td>216.028109</td>\n",
       "      <td>403 days</td>\n",
       "      <td>La Rioja</td>\n",
       "      <td>5</td>\n",
       "      <td>0.0</td>\n",
       "      <td>0</td>\n",
       "      <td>110</td>\n",
       "      <td>79</td>\n",
       "      <td>10897</td>\n",
       "      <td>12806</td>\n",
       "      <td>13751</td>\n",
       "      <td>0</td>\n",
       "      <td>0.0</td>\n",
       "      <td>1</td>\n",
       "      <td>FIBRA</td>\n",
       "      <td>50</td>\n",
       "      <td>tv-futbol</td>\n",
       "    </tr>\n",
       "    <tr>\n",
       "      <th>1</th>\n",
       "      <td>2</td>\n",
       "      <td>0</td>\n",
       "      <td>84</td>\n",
       "      <td>255.830842</td>\n",
       "      <td>861 days</td>\n",
       "      <td>País Vasco</td>\n",
       "      <td>3</td>\n",
       "      <td>0.0</td>\n",
       "      <td>0</td>\n",
       "      <td>189</td>\n",
       "      <td>89</td>\n",
       "      <td>18657</td>\n",
       "      <td>6499</td>\n",
       "      <td>10862</td>\n",
       "      <td>0</td>\n",
       "      <td>0.0</td>\n",
       "      <td>0</td>\n",
       "      <td>FIBRA</td>\n",
       "      <td>600</td>\n",
       "      <td>tv-futbol</td>\n",
       "    </tr>\n",
       "    <tr>\n",
       "      <th>2</th>\n",
       "      <td>3</td>\n",
       "      <td>0</td>\n",
       "      <td>66</td>\n",
       "      <td>135.768153</td>\n",
       "      <td>6578 days</td>\n",
       "      <td>Castilla-La Mancha</td>\n",
       "      <td>4</td>\n",
       "      <td>0.0</td>\n",
       "      <td>0</td>\n",
       "      <td>129</td>\n",
       "      <td>30</td>\n",
       "      <td>15511</td>\n",
       "      <td>17013</td>\n",
       "      <td>16743</td>\n",
       "      <td>0</td>\n",
       "      <td>0.0</td>\n",
       "      <td>0</td>\n",
       "      <td>ADSL</td>\n",
       "      <td>35</td>\n",
       "      <td>tv-futbol</td>\n",
       "    </tr>\n",
       "    <tr>\n",
       "      <th>3</th>\n",
       "      <td>4</td>\n",
       "      <td>0</td>\n",
       "      <td>69</td>\n",
       "      <td>255.658527</td>\n",
       "      <td>1606 days</td>\n",
       "      <td>Galicia</td>\n",
       "      <td>4</td>\n",
       "      <td>0.0</td>\n",
       "      <td>0</td>\n",
       "      <td>51</td>\n",
       "      <td>52</td>\n",
       "      <td>12670</td>\n",
       "      <td>3393</td>\n",
       "      <td>6771</td>\n",
       "      <td>0</td>\n",
       "      <td>0.0</td>\n",
       "      <td>1</td>\n",
       "      <td>FIBRA</td>\n",
       "      <td>200</td>\n",
       "      <td>tv-familiar</td>\n",
       "    </tr>\n",
       "    <tr>\n",
       "      <th>4</th>\n",
       "      <td>5</td>\n",
       "      <td>1</td>\n",
       "      <td>30</td>\n",
       "      <td>22.302845</td>\n",
       "      <td>8159 days</td>\n",
       "      <td>Cataluña</td>\n",
       "      <td>2</td>\n",
       "      <td>2.0</td>\n",
       "      <td>0</td>\n",
       "      <td>183</td>\n",
       "      <td>3</td>\n",
       "      <td>23756</td>\n",
       "      <td>18436</td>\n",
       "      <td>4485</td>\n",
       "      <td>0</td>\n",
       "      <td>0.0</td>\n",
       "      <td>1</td>\n",
       "      <td>ADSL</td>\n",
       "      <td>10</td>\n",
       "      <td>tv-futbol</td>\n",
       "    </tr>\n",
       "  </tbody>\n",
       "</table>\n",
       "</div>"
      ],
      "text/plain": [
       "   id  Fuga  edad  facturacion antiguedad           Comunidad  num_lineas  \\\n",
       "0   1     0    63   216.028109   403 days            La Rioja           5   \n",
       "1   2     0    84   255.830842   861 days          País Vasco           3   \n",
       "2   3     0    66   135.768153  6578 days  Castilla-La Mancha           4   \n",
       "3   4     0    69   255.658527  1606 days             Galicia           4   \n",
       "4   5     1    30    22.302845  8159 days            Cataluña           2   \n",
       "\n",
       "   num_dt  incidencia  num_llamad_ent  num_llamad_sal  mb_datos  \\\n",
       "0     0.0           0             110              79     10897   \n",
       "1     0.0           0             189              89     18657   \n",
       "2     0.0           0             129              30     15511   \n",
       "3     0.0           0              51              52     12670   \n",
       "4     2.0           0             183               3     23756   \n",
       "\n",
       "   seg_llamad_ent  seg_llamad_sal  financiacion  imp_financ  descuentos  \\\n",
       "0           12806           13751             0         0.0           1   \n",
       "1            6499           10862             0         0.0           0   \n",
       "2           17013           16743             0         0.0           0   \n",
       "3            3393            6771             0         0.0           1   \n",
       "4           18436            4485             0         0.0           1   \n",
       "\n",
       "  conexion  vel_conexion           TV  \n",
       "0    FIBRA            50    tv-futbol  \n",
       "1    FIBRA           600    tv-futbol  \n",
       "2     ADSL            35    tv-futbol  \n",
       "3    FIBRA           200  tv-familiar  \n",
       "4     ADSL            10    tv-futbol  "
      ]
     },
     "execution_count": 89,
     "metadata": {},
     "output_type": "execute_result"
    }
   ],
   "source": [
    "df_churn.head()"
   ]
  },
  {
   "cell_type": "code",
   "execution_count": 90,
   "metadata": {},
   "outputs": [
    {
     "data": {
      "text/html": [
       "<div>\n",
       "<style scoped>\n",
       "    .dataframe tbody tr th:only-of-type {\n",
       "        vertical-align: middle;\n",
       "    }\n",
       "\n",
       "    .dataframe tbody tr th {\n",
       "        vertical-align: top;\n",
       "    }\n",
       "\n",
       "    .dataframe thead th {\n",
       "        text-align: right;\n",
       "    }\n",
       "</style>\n",
       "<table border=\"1\" class=\"dataframe\">\n",
       "  <thead>\n",
       "    <tr style=\"text-align: right;\">\n",
       "      <th></th>\n",
       "      <th>incidencia</th>\n",
       "      <th>financiacion</th>\n",
       "      <th>descuentos</th>\n",
       "    </tr>\n",
       "  </thead>\n",
       "  <tbody>\n",
       "    <tr>\n",
       "      <th>0</th>\n",
       "      <td>0</td>\n",
       "      <td>0</td>\n",
       "      <td>1</td>\n",
       "    </tr>\n",
       "    <tr>\n",
       "      <th>1</th>\n",
       "      <td>0</td>\n",
       "      <td>0</td>\n",
       "      <td>0</td>\n",
       "    </tr>\n",
       "    <tr>\n",
       "      <th>2</th>\n",
       "      <td>0</td>\n",
       "      <td>0</td>\n",
       "      <td>0</td>\n",
       "    </tr>\n",
       "    <tr>\n",
       "      <th>3</th>\n",
       "      <td>0</td>\n",
       "      <td>0</td>\n",
       "      <td>1</td>\n",
       "    </tr>\n",
       "    <tr>\n",
       "      <th>4</th>\n",
       "      <td>0</td>\n",
       "      <td>0</td>\n",
       "      <td>1</td>\n",
       "    </tr>\n",
       "    <tr>\n",
       "      <th>...</th>\n",
       "      <td>...</td>\n",
       "      <td>...</td>\n",
       "      <td>...</td>\n",
       "    </tr>\n",
       "    <tr>\n",
       "      <th>95462</th>\n",
       "      <td>0</td>\n",
       "      <td>1</td>\n",
       "      <td>1</td>\n",
       "    </tr>\n",
       "    <tr>\n",
       "      <th>95463</th>\n",
       "      <td>0</td>\n",
       "      <td>0</td>\n",
       "      <td>1</td>\n",
       "    </tr>\n",
       "    <tr>\n",
       "      <th>95464</th>\n",
       "      <td>0</td>\n",
       "      <td>1</td>\n",
       "      <td>1</td>\n",
       "    </tr>\n",
       "    <tr>\n",
       "      <th>95465</th>\n",
       "      <td>0</td>\n",
       "      <td>0</td>\n",
       "      <td>1</td>\n",
       "    </tr>\n",
       "    <tr>\n",
       "      <th>95466</th>\n",
       "      <td>0</td>\n",
       "      <td>0</td>\n",
       "      <td>0</td>\n",
       "    </tr>\n",
       "  </tbody>\n",
       "</table>\n",
       "<p>95467 rows × 3 columns</p>\n",
       "</div>"
      ],
      "text/plain": [
       "       incidencia  financiacion  descuentos\n",
       "0               0             0           1\n",
       "1               0             0           0\n",
       "2               0             0           0\n",
       "3               0             0           1\n",
       "4               0             0           1\n",
       "...           ...           ...         ...\n",
       "95462           0             1           1\n",
       "95463           0             0           1\n",
       "95464           0             1           1\n",
       "95465           0             0           1\n",
       "95466           0             0           0\n",
       "\n",
       "[95467 rows x 3 columns]"
      ]
     },
     "execution_count": 90,
     "metadata": {},
     "output_type": "execute_result"
    }
   ],
   "source": [
    "df_churn[['incidencia','financiacion','descuentos']]"
   ]
  },
  {
   "cell_type": "code",
   "execution_count": 92,
   "metadata": {},
   "outputs": [
    {
     "data": {
      "text/plain": [
       "array(['La Rioja', 'País Vasco', 'Castilla-La Mancha', 'Galicia',\n",
       "       'Cataluña', 'Andalucía', 'Comunidad Valenciana',\n",
       "       'Comunidad de Madrid', 'Canarias', 'Castilla y Léon', 'Aragón',\n",
       "       'Comunidad Foral de Navarra', 'Extremadura',\n",
       "       'Principado de Asturias', 'Islas Baleares', 'Cantabria',\n",
       "       'Región de Murcia'], dtype=object)"
      ]
     },
     "execution_count": 92,
     "metadata": {},
     "output_type": "execute_result"
    }
   ],
   "source": [
    "df_churn['Comunidad'].unique()"
   ]
  },
  {
   "cell_type": "markdown",
   "metadata": {},
   "source": [
    "Convertir a numericas las comunidades"
   ]
  },
  {
   "cell_type": "code",
   "execution_count": 93,
   "metadata": {},
   "outputs": [],
   "source": [
    "\n",
    "df_churn['Comunidad'] = df_churn['Comunidad'].map( {'Andalucía': 1, 'Cataluña': 2, 'Comunidad de Madrid': 3, 'Comunidad Valenciana': 4, \n",
    "                                                    'Galicia': 5, 'Castilla y Léon': 6, 'Canarias': 7, 'País Vasco': 8, 'Castilla-La Mancha': 9,\n",
    "                                                    'Región de Murcia': 10, 'Aragón': 11, 'Islas Baleares': 12, 'Extremadura': 13, 'Principado de Asturias': 14,\n",
    "                                                    'Comunidad Foral de Navarra': 15, 'Cantabria': 16, 'La Rioja': 17} )\n",
    "\n",
    "df_enero['Comunidad'] = df_enero['Comunidad'].map( {'Andalucía': 1, 'Cataluña': 2, 'Comunidad de Madrid': 3, 'Comunidad Valenciana': 4, \n",
    "                                                    'Galicia': 5, 'Castilla y Léon': 6, 'Canarias': 7, 'País Vasco': 8, 'Castilla-La Mancha': 9,\n",
    "                                                    'Región de Murcia': 10, 'Aragón': 11, 'Islas Baleares': 12, 'Extremadura': 13, 'Principado de Asturias': 14,\n",
    "                                                    'Comunidad Foral de Navarra': 15, 'Cantabria': 16, 'La Rioja': 17} )"
   ]
  },
  {
   "cell_type": "code",
   "execution_count": 94,
   "metadata": {},
   "outputs": [],
   "source": [
    "df_churn['conexion'] = df_churn['conexion'].map( {'FIBRA': 1, 'ADSL': 2} )\n",
    "df_churn['TV'] = df_churn['TV'].map( {'tv-futbol': 1, 'tv-familiar': 2, 'tv-total':3} )\n",
    "\n",
    "df_enero['conexion'] = df_enero['conexion'].map( {'FIBRA': 1, 'ASDL': 2} )\n",
    "df_enero['TV'] = df_enero['TV'].map( {'tv-futbol': 1, 'tv-familiar': 2, 'tv-total':3} )"
   ]
  },
  {
   "cell_type": "code",
   "execution_count": 95,
   "metadata": {},
   "outputs": [
    {
     "data": {
      "text/plain": [
       "id                          int64\n",
       "Fuga                        int32\n",
       "edad                        int64\n",
       "facturacion               float64\n",
       "antiguedad        timedelta64[ns]\n",
       "Comunidad                   int64\n",
       "num_lineas                  int64\n",
       "num_dt                    float64\n",
       "incidencia                  uint8\n",
       "num_llamad_ent              int64\n",
       "num_llamad_sal              int64\n",
       "mb_datos                    int64\n",
       "seg_llamad_ent              int64\n",
       "seg_llamad_sal              int64\n",
       "financiacion                uint8\n",
       "imp_financ                float64\n",
       "descuentos                  uint8\n",
       "conexion                    int64\n",
       "vel_conexion                int32\n",
       "TV                          int64\n",
       "dtype: object"
      ]
     },
     "execution_count": 95,
     "metadata": {},
     "output_type": "execute_result"
    }
   ],
   "source": [
    "df_churn.dtypes"
   ]
  },
  {
   "cell_type": "code",
   "execution_count": 96,
   "metadata": {},
   "outputs": [],
   "source": [
    "df_churn[\"incidencia\"] = np.float64(df_churn[\"incidencia\"])\n",
    "df_churn[\"financiacion\"] = np.float64(df_churn[\"financiacion\"])\n",
    "df_churn[\"descuentos\"] = np.float64(df_churn[\"descuentos\"]) \n",
    "df_churn['TV'] = np.float64(df_churn['TV'])"
   ]
  },
  {
   "cell_type": "code",
   "execution_count": null,
   "metadata": {},
   "outputs": [],
   "source": [
    "df_enero[\"incidencia\"] = np.float64(df_churn[\"incidencia\"])\n",
    "df_enero[\"financiacion\"] = np.float64(df_churn[\"financiacion\"])\n",
    "df_enero[\"descuentos\"] = np.float64(df_churn[\"descuentos\"]) \n",
    "df_enero['TV'] = np.float64(df_enero['TV'])"
   ]
  },
  {
   "cell_type": "code",
   "execution_count": 98,
   "metadata": {},
   "outputs": [],
   "source": [
    "df_churn['antiguedad'] = pd.to_numeric(df_churn['antiguedad'].dt.days, downcast='integer')\n",
    "df_enero['antiguedad'] = pd.to_numeric(df_enero['antiguedad'].dt.days, downcast='integer')"
   ]
  },
  {
   "cell_type": "code",
   "execution_count": 99,
   "metadata": {},
   "outputs": [
    {
     "data": {
      "text/plain": [
       "id                  int64\n",
       "Fuga                int32\n",
       "edad                int64\n",
       "facturacion       float64\n",
       "antiguedad          int16\n",
       "Comunidad           int64\n",
       "num_lineas          int64\n",
       "num_dt            float64\n",
       "incidencia        float64\n",
       "num_llamad_ent      int64\n",
       "num_llamad_sal      int64\n",
       "mb_datos            int64\n",
       "seg_llamad_ent      int64\n",
       "seg_llamad_sal      int64\n",
       "financiacion      float64\n",
       "imp_financ        float64\n",
       "descuentos        float64\n",
       "conexion            int64\n",
       "vel_conexion        int32\n",
       "TV                float64\n",
       "dtype: object"
      ]
     },
     "execution_count": 99,
     "metadata": {},
     "output_type": "execute_result"
    }
   ],
   "source": [
    "df_churn.dtypes"
   ]
  },
  {
   "cell_type": "markdown",
   "metadata": {},
   "source": [
    "## Obtención del valor del VIF\n",
    "\n",
    "Vamos a calcular el valor del VIF para todas las variables menos la objetivo. Para esto se realiza una regresión lineal de cada una de las variables frente al resto y aplicamos la fórmula del VIF\n",
    "$$\n",
    "    VIF_i = \\frac{1}{1 - R_i^2}\n",
    "$$"
   ]
  },
  {
   "cell_type": "code",
   "execution_count": 100,
   "metadata": {},
   "outputs": [
    {
     "name": "stdout",
     "output_type": "stream",
     "text": [
      "El valor del VIF para la variable id es: 1.0013151941805605\n",
      "El valor del VIF para la variable edad es: 1.0203361645601885\n",
      "El valor del VIF para la variable facturacion es: 1.3241633243694257\n",
      "El valor del VIF para la variable antiguedad es: 1.0001029164672168\n",
      "El valor del VIF para la variable Comunidad es: 1.0001168916745433\n",
      "El valor del VIF para la variable num_lineas es: 1.2704774688641918\n",
      "El valor del VIF para la variable num_dt es: 1.01356113499989\n",
      "El valor del VIF para la variable incidencia es: 1.0118149832984147\n",
      "El valor del VIF para la variable num_llamad_ent es: 1.00036118807258\n",
      "El valor del VIF para la variable num_llamad_sal es: 1.0008891338142116\n",
      "El valor del VIF para la variable mb_datos es: 1.0001094725159698\n",
      "El valor del VIF para la variable seg_llamad_ent es: 1.0003504714084543\n",
      "El valor del VIF para la variable seg_llamad_sal es: 1.0009505314023026\n",
      "El valor del VIF para la variable financiacion es: 5.4725719748181865\n",
      "El valor del VIF para la variable imp_financ es: 5.470682759174778\n",
      "El valor del VIF para la variable descuentos es: 1.0060690943867752\n",
      "El valor del VIF para la variable conexion es: 1.5735967294437636\n",
      "El valor del VIF para la variable vel_conexion es: 1.5714129742014222\n",
      "El valor del VIF para la variable TV es: 1.0539575712209548\n"
     ]
    }
   ],
   "source": [
    "from sklearn.linear_model import LinearRegression\n",
    "\n",
    "# Borrado de la variable objetivo\n",
    "df_churn_vif = df_churn.copy(deep = True)\n",
    "features = list(df_churn_vif.columns)\n",
    "features.remove('Fuga')\n",
    "#features.remove('antiguedad')\n",
    "df_churn_vif = df_churn_vif[features]\n",
    "\n",
    "for i in range(len(features)):\n",
    "    var = features[i]\n",
    "    fet = features[:]\n",
    "    fet.remove(var)\n",
    "    \n",
    "    x = df_churn_vif[fet]\n",
    "    y = df_churn[var]\n",
    "    \n",
    "    model = LinearRegression()\n",
    "    model.fit(x, y)\n",
    "    \n",
    "    vif = 1 / (1 - model.score(x, y))\n",
    "    \n",
    "    print ('El valor del VIF para la variable', var, 'es:', vif)"
   ]
  },
  {
   "cell_type": "markdown",
   "metadata": {},
   "source": [
    "En los resultados se puede observar que hay dos variables ( `financiacion` y `imp_financ`) que tienen valores por encima de 5. Se ha de eliminar la que tiene el valor más alto y volve a ejecutar el proceso."
   ]
  },
  {
   "cell_type": "code",
   "execution_count": 101,
   "metadata": {},
   "outputs": [
    {
     "name": "stdout",
     "output_type": "stream",
     "text": [
      "El valor del VIF para la variable id es: 1.0013149697811756\n",
      "El valor del VIF para la variable edad es: 1.0201933344157252\n",
      "El valor del VIF para la variable facturacion es: 1.3241585101009288\n",
      "El valor del VIF para la variable antiguedad es: 1.0000885261530956\n",
      "El valor del VIF para la variable Comunidad es: 1.0000970361562267\n",
      "El valor del VIF para la variable num_lineas es: 1.2704749604146206\n",
      "El valor del VIF para la variable num_dt es: 1.0135027286733411\n",
      "El valor del VIF para la variable incidencia es: 1.0115610057590365\n",
      "El valor del VIF para la variable num_llamad_ent es: 1.0003257943218038\n",
      "El valor del VIF para la variable num_llamad_sal es: 1.0008891281780548\n",
      "El valor del VIF para la variable mb_datos es: 1.0000918615345897\n",
      "El valor del VIF para la variable seg_llamad_ent es: 1.000286095465946\n",
      "El valor del VIF para la variable seg_llamad_sal es: 1.000945073303496\n",
      "El valor del VIF para la variable imp_financ es: 1.002170255207504\n",
      "El valor del VIF para la variable descuentos es: 1.0060436813805318\n",
      "El valor del VIF para la variable conexion es: 1.5734562231985811\n",
      "El valor del VIF para la variable vel_conexion es: 1.571399181703555\n",
      "El valor del VIF para la variable TV es: 1.053913260744521\n"
     ]
    }
   ],
   "source": [
    "features.remove('financiacion')\n",
    "for i in range(len(features)):\n",
    "    var = features[i]\n",
    "    fet = features[:]\n",
    "    fet.remove(var)\n",
    "    \n",
    "    x = df_churn_vif[fet]\n",
    "    y = df_churn[var]\n",
    "    \n",
    "    model = LinearRegression()\n",
    "    model.fit(x, y)\n",
    "    \n",
    "    vif = 1 / (1 - model.score(x, y))\n",
    "    \n",
    "    print ('El valor del VIF para la variable', var, 'es:', vif)"
   ]
  },
  {
   "cell_type": "markdown",
   "metadata": {},
   "source": [
    "### Aplicamos los cambios al dataset principal:"
   ]
  },
  {
   "cell_type": "code",
   "execution_count": 102,
   "metadata": {},
   "outputs": [
    {
     "data": {
      "text/html": [
       "<div>\n",
       "<style scoped>\n",
       "    .dataframe tbody tr th:only-of-type {\n",
       "        vertical-align: middle;\n",
       "    }\n",
       "\n",
       "    .dataframe tbody tr th {\n",
       "        vertical-align: top;\n",
       "    }\n",
       "\n",
       "    .dataframe thead th {\n",
       "        text-align: right;\n",
       "    }\n",
       "</style>\n",
       "<table border=\"1\" class=\"dataframe\">\n",
       "  <thead>\n",
       "    <tr style=\"text-align: right;\">\n",
       "      <th></th>\n",
       "      <th>id</th>\n",
       "      <th>Fuga</th>\n",
       "      <th>edad</th>\n",
       "      <th>facturacion</th>\n",
       "      <th>antiguedad</th>\n",
       "      <th>Comunidad</th>\n",
       "      <th>num_lineas</th>\n",
       "      <th>num_dt</th>\n",
       "      <th>incidencia</th>\n",
       "      <th>num_llamad_ent</th>\n",
       "      <th>num_llamad_sal</th>\n",
       "      <th>mb_datos</th>\n",
       "      <th>seg_llamad_ent</th>\n",
       "      <th>seg_llamad_sal</th>\n",
       "      <th>imp_financ</th>\n",
       "      <th>descuentos</th>\n",
       "      <th>conexion</th>\n",
       "      <th>vel_conexion</th>\n",
       "      <th>TV</th>\n",
       "    </tr>\n",
       "  </thead>\n",
       "  <tbody>\n",
       "    <tr>\n",
       "      <th>0</th>\n",
       "      <td>1</td>\n",
       "      <td>0</td>\n",
       "      <td>63</td>\n",
       "      <td>216.028109</td>\n",
       "      <td>403</td>\n",
       "      <td>17</td>\n",
       "      <td>5</td>\n",
       "      <td>0.0</td>\n",
       "      <td>0.0</td>\n",
       "      <td>110</td>\n",
       "      <td>79</td>\n",
       "      <td>10897</td>\n",
       "      <td>12806</td>\n",
       "      <td>13751</td>\n",
       "      <td>0.0</td>\n",
       "      <td>1.0</td>\n",
       "      <td>1</td>\n",
       "      <td>50</td>\n",
       "      <td>1.0</td>\n",
       "    </tr>\n",
       "    <tr>\n",
       "      <th>1</th>\n",
       "      <td>2</td>\n",
       "      <td>0</td>\n",
       "      <td>84</td>\n",
       "      <td>255.830842</td>\n",
       "      <td>861</td>\n",
       "      <td>8</td>\n",
       "      <td>3</td>\n",
       "      <td>0.0</td>\n",
       "      <td>0.0</td>\n",
       "      <td>189</td>\n",
       "      <td>89</td>\n",
       "      <td>18657</td>\n",
       "      <td>6499</td>\n",
       "      <td>10862</td>\n",
       "      <td>0.0</td>\n",
       "      <td>0.0</td>\n",
       "      <td>1</td>\n",
       "      <td>600</td>\n",
       "      <td>1.0</td>\n",
       "    </tr>\n",
       "    <tr>\n",
       "      <th>2</th>\n",
       "      <td>3</td>\n",
       "      <td>0</td>\n",
       "      <td>66</td>\n",
       "      <td>135.768153</td>\n",
       "      <td>6578</td>\n",
       "      <td>9</td>\n",
       "      <td>4</td>\n",
       "      <td>0.0</td>\n",
       "      <td>0.0</td>\n",
       "      <td>129</td>\n",
       "      <td>30</td>\n",
       "      <td>15511</td>\n",
       "      <td>17013</td>\n",
       "      <td>16743</td>\n",
       "      <td>0.0</td>\n",
       "      <td>0.0</td>\n",
       "      <td>2</td>\n",
       "      <td>35</td>\n",
       "      <td>1.0</td>\n",
       "    </tr>\n",
       "    <tr>\n",
       "      <th>3</th>\n",
       "      <td>4</td>\n",
       "      <td>0</td>\n",
       "      <td>69</td>\n",
       "      <td>255.658527</td>\n",
       "      <td>1606</td>\n",
       "      <td>5</td>\n",
       "      <td>4</td>\n",
       "      <td>0.0</td>\n",
       "      <td>0.0</td>\n",
       "      <td>51</td>\n",
       "      <td>52</td>\n",
       "      <td>12670</td>\n",
       "      <td>3393</td>\n",
       "      <td>6771</td>\n",
       "      <td>0.0</td>\n",
       "      <td>1.0</td>\n",
       "      <td>1</td>\n",
       "      <td>200</td>\n",
       "      <td>2.0</td>\n",
       "    </tr>\n",
       "    <tr>\n",
       "      <th>4</th>\n",
       "      <td>5</td>\n",
       "      <td>1</td>\n",
       "      <td>30</td>\n",
       "      <td>22.302845</td>\n",
       "      <td>8159</td>\n",
       "      <td>2</td>\n",
       "      <td>2</td>\n",
       "      <td>2.0</td>\n",
       "      <td>0.0</td>\n",
       "      <td>183</td>\n",
       "      <td>3</td>\n",
       "      <td>23756</td>\n",
       "      <td>18436</td>\n",
       "      <td>4485</td>\n",
       "      <td>0.0</td>\n",
       "      <td>1.0</td>\n",
       "      <td>2</td>\n",
       "      <td>10</td>\n",
       "      <td>1.0</td>\n",
       "    </tr>\n",
       "  </tbody>\n",
       "</table>\n",
       "</div>"
      ],
      "text/plain": [
       "   id  Fuga  edad  facturacion  antiguedad  Comunidad  num_lineas  num_dt  \\\n",
       "0   1     0    63   216.028109         403         17           5     0.0   \n",
       "1   2     0    84   255.830842         861          8           3     0.0   \n",
       "2   3     0    66   135.768153        6578          9           4     0.0   \n",
       "3   4     0    69   255.658527        1606          5           4     0.0   \n",
       "4   5     1    30    22.302845        8159          2           2     2.0   \n",
       "\n",
       "   incidencia  num_llamad_ent  num_llamad_sal  mb_datos  seg_llamad_ent  \\\n",
       "0         0.0             110              79     10897           12806   \n",
       "1         0.0             189              89     18657            6499   \n",
       "2         0.0             129              30     15511           17013   \n",
       "3         0.0              51              52     12670            3393   \n",
       "4         0.0             183               3     23756           18436   \n",
       "\n",
       "   seg_llamad_sal  imp_financ  descuentos  conexion  vel_conexion   TV  \n",
       "0           13751         0.0         1.0         1            50  1.0  \n",
       "1           10862         0.0         0.0         1           600  1.0  \n",
       "2           16743         0.0         0.0         2            35  1.0  \n",
       "3            6771         0.0         1.0         1           200  2.0  \n",
       "4            4485         0.0         1.0         2            10  1.0  "
      ]
     },
     "execution_count": 102,
     "metadata": {},
     "output_type": "execute_result"
    }
   ],
   "source": [
    "df_churn.drop(['financiacion'],axis = 'columns',inplace = True )\n",
    "df_churn.head()"
   ]
  },
  {
   "cell_type": "markdown",
   "metadata": {},
   "source": [
    "## Correlacion"
   ]
  },
  {
   "cell_type": "code",
   "execution_count": null,
   "metadata": {},
   "outputs": [
    {
     "data": {
      "text/plain": [
       "Text(0.5, 1.0, 'Correlation with Churn Rate \\n')"
      ]
     },
     "execution_count": 45,
     "metadata": {},
     "output_type": "execute_result"
    },
    {
     "data": {
      "image/png": "[encoded data removed]",
      "text/plain": [
       "<Figure size 1296x720 with 1 Axes>"
      ]
     },
     "metadata": {
      "needs_background": "light"
     },
     "output_type": "display_data"
    }
   ],
   "source": [
    "correlations = df_churn.corrwith(df_churn['Fuga'])\n",
    "correlations = correlations[correlations!=1]\n",
    "\n",
    "correlations.plot.bar(\n",
    "        figsize = (18, 10), fontsize = 15, color = '#ec838a',\n",
    "        rot = 45, grid = True)\n",
    "\n",
    "plt.title('Correlation with Churn Rate \\n',horizontalalignment=\"center\", fontstyle = \"normal\", fontsize = \"22\", fontfamily = \"sans-serif\")"
   ]
  },
  {
   "cell_type": "code",
   "execution_count": null,
   "metadata": {},
   "outputs": [
    {
     "data": {
      "text/plain": [
       "<AxesSubplot:>"
      ]
     },
     "execution_count": 239,
     "metadata": {},
     "output_type": "execute_result"
    },
    {
     "data": {
      "image/png": "[encoded data removed]",
      "text/plain": [
       "<Figure size 1296x1080 with 2 Axes>"
      ]
     },
     "metadata": {},
     "output_type": "display_data"
    }
   ],
   "source": [
    "## Set and compute the Correlation Matrix\n",
    "sn.set(style=\"white\")\n",
    "corr = df_churn.corr()\n",
    "\n",
    "# Generate a mask for the upper triangle\n",
    "mask = np.zeros_like(corr, dtype=np.bool)\n",
    "mask[np.triu_indices_from(mask)] = True\n",
    "\n",
    "# Set up the matplotlib figure and a diverging colormap\n",
    "f, ax = plt.subplots(figsize=(18, 15))\n",
    "cmap = sn.diverging_palette(220, 10, as_cmap=True)\n",
    "\n",
    "# Draw the heatmap with the mask and correct aspect ratio\n",
    "sn.heatmap(corr, mask=mask, cmap=cmap, vmax=.3, center=0,\n",
    "            square=True, linewidths=.5, cbar_kws={\"shrink\": .5})"
   ]
  },
  {
   "cell_type": "markdown",
   "metadata": {},
   "source": [
    "## Muestreo de Datos"
   ]
  },
  {
   "cell_type": "code",
   "execution_count": 103,
   "metadata": {},
   "outputs": [],
   "source": [
    "response = df_churn[\"Fuga\"]\n",
    "df_churn = df_churn.drop(columns=\"Fuga\")"
   ]
  },
  {
   "cell_type": "code",
   "execution_count": 118,
   "metadata": {},
   "outputs": [
    {
     "name": "stdout",
     "output_type": "stream",
     "text": [
      "Number transactions X_train dataset:  (76373, 18)\n",
      "Number transactions y_train dataset:  (76373,)\n",
      "Number transactions X_test dataset:  (19094, 18)\n",
      "Number transactions y_test dataset:  (19094,)\n"
     ]
    }
   ],
   "source": [
    "X_train, X_test, y_train, y_test = train_test_split(df_churn, response,\n",
    "                                                    stratify=response, \n",
    "                                                    test_size = 0.2, #use 0.9 if data is huge.\n",
    "                                                    random_state = 0)\n",
    "\n",
    "#to resolve any class imbalance - use stratify parameter.\n",
    "\n",
    "print(\"Number transactions X_train dataset: \", X_train.shape)\n",
    "print(\"Number transactions y_train dataset: \", y_train.shape)\n",
    "print(\"Number transactions X_test dataset: \", X_test.shape)\n",
    "print(\"Number transactions y_test dataset: \", y_test.shape)\n"
   ]
  },
  {
   "cell_type": "code",
   "execution_count": 119,
   "metadata": {},
   "outputs": [],
   "source": [
    "\n",
    "train_identity = X_train['id']\n",
    "X_train = X_train.drop(columns = ['id'])\n",
    "\n",
    "test_identity = X_test['id']\n",
    "X_test = X_test.drop(columns = ['id'])"
   ]
  },
  {
   "cell_type": "code",
   "execution_count": 129,
   "metadata": {},
   "outputs": [],
   "source": [
    "from sklearn.preprocessing import StandardScaler "
   ]
  },
  {
   "cell_type": "code",
   "execution_count": 130,
   "metadata": {},
   "outputs": [],
   "source": [
    "sc_X = StandardScaler()\n",
    "X_train2 = pd.DataFrame(sc_X.fit_transform(X_train))\n",
    "X_train2.columns = X_train.columns.values\n",
    "X_train2.index = X_train.index.values\n",
    "X_train = X_train2\n",
    "\n",
    "X_test2 = pd.DataFrame(sc_X.transform(X_test))\n",
    "X_test2.columns = X_test.columns.values\n",
    "X_test2.index = X_test.index.values\n",
    "X_test = X_test2"
   ]
  },
  {
   "cell_type": "markdown",
   "metadata": {},
   "source": [
    "## Seleccion de Modelos"
   ]
  },
  {
   "cell_type": "markdown",
   "metadata": {},
   "source": [
    "### Regresión logística"
   ]
  },
  {
   "cell_type": "code",
   "execution_count": 131,
   "metadata": {},
   "outputs": [],
   "source": [
    "def saca_metricas(y1, y2):\n",
    "    print('matriz de confusión')\n",
    "    print(confusion_matrix(y1, y2))\n",
    "    print('accuracy')\n",
    "    print(accuracy_score(y1, y2))\n",
    "    print('precision')\n",
    "    print(precision_score(y1, y2))\n",
    "    print('recall')\n",
    "    print(recall_score(y1, y2))\n",
    "    print('f1')\n",
    "    print(f1_score(y1, y2))\n",
    "    false_positive_rate, recall, thresholds = roc_curve(y1, y2)\n",
    "    roc_auc = auc(false_positive_rate, recall)\n",
    "    print('AUC')\n",
    "    print(roc_auc)\n",
    "    plt.plot(false_positive_rate, recall, 'b')\n",
    "    plt.plot([0, 1], [0, 1], 'r--')\n",
    "    plt.title('AUC = %0.2f' % roc_auc)"
   ]
  },
  {
   "cell_type": "code",
   "execution_count": 145,
   "metadata": {},
   "outputs": [
    {
     "name": "stdout",
     "output_type": "stream",
     "text": [
      "matriz de confusión\n",
      "[[17559   118]\n",
      " [  789   628]]\n",
      "accuracy\n",
      "0.952498166963444\n",
      "precision\n",
      "0.8418230563002681\n",
      "recall\n",
      "0.44318983768525055\n",
      "f1\n",
      "0.5806749884419787\n",
      "AUC\n",
      "0.7182572484234366\n"
     ]
    },
    {
     "data": {
      "image/png": "[encoded data removed]",
      "text/plain": [
       "<Figure size 432x288 with 1 Axes>"
      ]
     },
     "metadata": {
      "needs_background": "light"
     },
     "output_type": "display_data"
    }
   ],
   "source": [
    "classifier = LogisticRegression().fit(X_train, y_train)\n",
    "y_pred     = classifier.predict(X_test)\n",
    "saca_metricas(y_test, y_pred)"
   ]
  },
  {
   "cell_type": "markdown",
   "metadata": {},
   "source": [
    "### Árboles de decisión"
   ]
  },
  {
   "cell_type": "code",
   "execution_count": 146,
   "metadata": {},
   "outputs": [
    {
     "name": "stdout",
     "output_type": "stream",
     "text": [
      "matriz de confusión\n",
      "[[17068   609]\n",
      " [  574   843]]\n",
      "accuracy\n",
      "0.9380433644076673\n",
      "precision\n",
      "0.5805785123966942\n",
      "recall\n",
      "0.5949188426252646\n",
      "f1\n",
      "0.5876612059951202\n",
      "AUC\n",
      "0.7802336477085139\n"
     ]
    },
    {
     "data": {
      "image/png": "[encoded data removed]",
      "text/plain": [
       "<Figure size 432x288 with 1 Axes>"
      ]
     },
     "metadata": {
      "needs_background": "light"
     },
     "output_type": "display_data"
    }
   ],
   "source": [
    "dt_classifier = DecisionTreeClassifier().fit(X_train, y_train)\n",
    "y_pred        = dt_classifier.predict(X_test)\n",
    "saca_metricas(y_test, y_pred)"
   ]
  },
  {
   "cell_type": "markdown",
   "metadata": {},
   "source": [
    "### Random Forest"
   ]
  },
  {
   "cell_type": "code",
   "execution_count": 136,
   "metadata": {},
   "outputs": [
    {
     "name": "stdout",
     "output_type": "stream",
     "text": [
      "matriz de confusión\n",
      "[[17586    91]\n",
      " [  591   826]]\n",
      "accuracy\n",
      "0.9642819733947837\n",
      "precision\n",
      "0.9007633587786259\n",
      "recall\n",
      "0.5829216654904729\n",
      "f1\n",
      "0.7077977720651243\n",
      "AUC\n",
      "0.7888868665745061\n"
     ]
    },
    {
     "data": {
      "image/png": "[encoded data removed]",
      "text/plain": [
       "<Figure size 432x288 with 1 Axes>"
      ]
     },
     "metadata": {
      "needs_background": "light"
     },
     "output_type": "display_data"
    }
   ],
   "source": [
    "rf_classifier = RandomForestClassifier().fit(X_train, y_train)\n",
    "y_pred        = rf_classifier.predict(X_test)\n",
    "saca_metricas(y_test, y_pred)"
   ]
  },
  {
   "cell_type": "markdown",
   "metadata": {},
   "source": [
    "### Clustering"
   ]
  },
  {
   "cell_type": "code",
   "execution_count": 149,
   "metadata": {},
   "outputs": [
    {
     "data": {
      "text/plain": [
       "(95467, 18)"
      ]
     },
     "execution_count": 149,
     "metadata": {},
     "output_type": "execute_result"
    }
   ],
   "source": [
    "df_churn.shape"
   ]
  },
  {
   "cell_type": "code",
   "execution_count": 151,
   "metadata": {},
   "outputs": [],
   "source": [
    "from sklearn.cluster import KMeans"
   ]
  },
  {
   "cell_type": "code",
   "execution_count": 155,
   "metadata": {},
   "outputs": [
    {
     "data": {
      "image/png": "[encoded data removed]",
      "text/plain": [
       "<Figure size 432x288 with 1 Axes>"
      ]
     },
     "metadata": {
      "needs_background": "light"
     },
     "output_type": "display_data"
    }
   ],
   "source": [
    "sse = []\n",
    "for i in range(1, 11):\n",
    "    kmeans = KMeans(n_clusters = i, init = 'k-means++', random_state = 42)\n",
    "    kmeans.fit(X_train)\n",
    "    sse.append(kmeans.inertia_)\n",
    "plt.plot(range(1, 11), sse)\n",
    "plt.xlabel('Número de Clusters')\n",
    "plt.show()"
   ]
  },
  {
   "cell_type": "code",
   "execution_count": 153,
   "metadata": {},
   "outputs": [
    {
     "data": {
      "image/png": "[encoded data removed]",
      "text/plain": [
       "<Figure size 432x288 with 1 Axes>"
      ]
     },
     "metadata": {
      "needs_background": "light"
     },
     "output_type": "display_data"
    }
   ],
   "source": [
    "sse = []\n",
    "for i in range(1, 11):\n",
    "    kmeans = KMeans(n_clusters = i, init = 'k-means++', random_state = 42)\n",
    "    kmeans.fit(df_churn)\n",
    "    sse.append(kmeans.inertia_)\n",
    "plt.plot(range(1, 11), sse)\n",
    "plt.xlabel('Número de Clusters')\n",
    "plt.show()"
   ]
  },
  {
   "cell_type": "code",
   "execution_count": 126,
   "metadata": {},
   "outputs": [],
   "source": [
    "from sklearn.metrics import confusion_matrix, accuracy_score \n",
    "from sklearn.metrics import f1_score, precision_score, recall_score, fbeta_score\n",
    "from statsmodels.stats.outliers_influence import variance_inflation_factor\n",
    "from sklearn.model_selection import cross_val_score\n",
    "from sklearn.model_selection import GridSearchCV"
   ]
  },
  {
   "cell_type": "code",
   "execution_count": 156,
   "metadata": {},
   "outputs": [],
   "source": [
    "classifier = LogisticRegression(random_state = 0)\n",
    "classifier.fit(X_train, y_train)\n",
    "\n",
    "# Predicting the Test set results\n",
    "y_pred = classifier.predict(X_test)\n",
    "\n",
    "#Evaluate results\n",
    "\n",
    "acc = accuracy_score(y_test, y_pred )\n",
    "prec = precision_score(y_test, y_pred )\n",
    "rec = recall_score(y_test, y_pred )\n",
    "f1 = f1_score(y_test, y_pred )\n",
    "f2 = fbeta_score(y_test, y_pred, beta=2.0)\n",
    "\n",
    "results = pd.DataFrame([['Logistic Regression', acc, prec, rec, f1, f2]],\n",
    "               columns = ['Model', 'Accuracy', 'Precision', 'Recall', 'F1 Score', 'F2 Score'])\n",
    "\n",
    "#Step 15.4.6. Decision Tree---------------------------------------------\n",
    "\n",
    "\n",
    "# Fitting Decision Tree to the Training set:\n",
    "\n",
    "classifier = DecisionTreeClassifier(criterion = 'entropy', random_state = 0)\n",
    "classifier.fit(X_train, y_train)\n",
    "\n",
    "\n",
    "# Predicting the Test set results \n",
    "y_pred = classifier.predict(X_test)\n",
    "\n",
    "#Evaluate results\n",
    "acc = accuracy_score(y_test, y_pred )\n",
    "prec = precision_score(y_test, y_pred )\n",
    "rec = recall_score(y_test, y_pred )\n",
    "f1 = f1_score(y_test, y_pred )\n",
    "f2 = fbeta_score(y_test, y_pred, beta=2.0)\n",
    "\n",
    "model_results = pd.DataFrame([['Decision Tree', acc, prec, rec, f1, f2]],\n",
    "               columns = ['Model', 'Accuracy', 'Precision', 'Recall', 'F1 Score', 'F2 Score'])\n",
    "\n",
    "results = results.append(model_results, ignore_index = True)\n",
    "\n",
    "\n",
    "#Step 15.4.7. Random Forest--------------------------------------------\n",
    "\n",
    "\n",
    "# Fitting Random Forest to the Training set:\n",
    "    \n",
    "classifier = RandomForestClassifier(n_estimators = 72, criterion = 'entropy', random_state = 0)\n",
    "classifier.fit(X_train, y_train)\n",
    "\n",
    "# Predicting the Test set results \n",
    "y_pred = classifier.predict(X_test)\n",
    "\n",
    "#Evaluate results\n",
    "\n",
    "from sklearn.metrics import confusion_matrix, accuracy_score, f1_score, precision_score, recall_score\n",
    "acc = accuracy_score(y_test, y_pred )\n",
    "prec = precision_score(y_test, y_pred )\n",
    "rec = recall_score(y_test, y_pred )\n",
    "f1 = f1_score(y_test, y_pred )\n",
    "f2 = fbeta_score(y_test, y_pred, beta=2.0)\n",
    "\n",
    "model_results = pd.DataFrame([['Random Forest', acc, prec, rec, f1, f2]],\n",
    "               columns = ['Model', 'Accuracy', 'Precision', 'Recall', 'F1 Score', 'F2 Score'])\n",
    "\n",
    "results = results.append(model_results, ignore_index = True)\n"
   ]
  },
  {
   "cell_type": "code",
   "execution_count": 157,
   "metadata": {},
   "outputs": [
    {
     "name": "stdout",
     "output_type": "stream",
     "text": [
      "                 Model  Accuracy  Precision    Recall  F1 Score  F2 Score\n",
      "2        Random Forest  0.964125   0.900438  0.580805  0.706135  0.625190\n",
      "0  Logistic Regression  0.952498   0.841823  0.443190  0.580675  0.489554\n",
      "1        Decision Tree  0.939772   0.592516  0.603387  0.597902  0.601181\n"
     ]
    }
   ],
   "source": [
    "results = results.sort_values([\"Precision\", \"Recall\", \"F2 Score\"], ascending = False)\n",
    "    \n",
    "\n",
    "print (results)"
   ]
  },
  {
   "cell_type": "code",
   "execution_count": 159,
   "metadata": {},
   "outputs": [
    {
     "data": {
      "text/plain": [
       "RandomForestClassifier(criterion='entropy', n_estimators=72, random_state=0)"
      ]
     },
     "execution_count": 159,
     "metadata": {},
     "output_type": "execute_result"
    }
   ],
   "source": [
    "classifier"
   ]
  },
  {
   "cell_type": "markdown",
   "metadata": {},
   "source": [
    "### Importancia de las variables"
   ]
  },
  {
   "cell_type": "code",
   "execution_count": 144,
   "metadata": {},
   "outputs": [
    {
     "data": {
      "text/html": [
       "<div>\n",
       "<style scoped>\n",
       "    .dataframe tbody tr th:only-of-type {\n",
       "        vertical-align: middle;\n",
       "    }\n",
       "\n",
       "    .dataframe tbody tr th {\n",
       "        vertical-align: top;\n",
       "    }\n",
       "\n",
       "    .dataframe thead th {\n",
       "        text-align: right;\n",
       "    }\n",
       "</style>\n",
       "<table border=\"1\" class=\"dataframe\">\n",
       "  <thead>\n",
       "    <tr style=\"text-align: right;\">\n",
       "      <th></th>\n",
       "      <th>variables</th>\n",
       "      <th>coef</th>\n",
       "    </tr>\n",
       "  </thead>\n",
       "  <tbody>\n",
       "    <tr>\n",
       "      <th>13</th>\n",
       "      <td>descuentos</td>\n",
       "      <td>3.020685</td>\n",
       "    </tr>\n",
       "    <tr>\n",
       "      <th>5</th>\n",
       "      <td>num_dt</td>\n",
       "      <td>0.799709</td>\n",
       "    </tr>\n",
       "    <tr>\n",
       "      <th>6</th>\n",
       "      <td>incidencia</td>\n",
       "      <td>0.696840</td>\n",
       "    </tr>\n",
       "    <tr>\n",
       "      <th>14</th>\n",
       "      <td>conexion</td>\n",
       "      <td>0.341159</td>\n",
       "    </tr>\n",
       "    <tr>\n",
       "      <th>15</th>\n",
       "      <td>vel_conexion</td>\n",
       "      <td>0.226205</td>\n",
       "    </tr>\n",
       "    <tr>\n",
       "      <th>1</th>\n",
       "      <td>facturacion</td>\n",
       "      <td>0.047120</td>\n",
       "    </tr>\n",
       "    <tr>\n",
       "      <th>7</th>\n",
       "      <td>num_llamad_ent</td>\n",
       "      <td>0.028896</td>\n",
       "    </tr>\n",
       "    <tr>\n",
       "      <th>3</th>\n",
       "      <td>Comunidad</td>\n",
       "      <td>0.028463</td>\n",
       "    </tr>\n",
       "    <tr>\n",
       "      <th>9</th>\n",
       "      <td>mb_datos</td>\n",
       "      <td>0.006354</td>\n",
       "    </tr>\n",
       "    <tr>\n",
       "      <th>8</th>\n",
       "      <td>num_llamad_sal</td>\n",
       "      <td>0.001840</td>\n",
       "    </tr>\n",
       "    <tr>\n",
       "      <th>11</th>\n",
       "      <td>seg_llamad_sal</td>\n",
       "      <td>0.000288</td>\n",
       "    </tr>\n",
       "    <tr>\n",
       "      <th>2</th>\n",
       "      <td>antiguedad</td>\n",
       "      <td>-0.018099</td>\n",
       "    </tr>\n",
       "    <tr>\n",
       "      <th>4</th>\n",
       "      <td>num_lineas</td>\n",
       "      <td>-0.022495</td>\n",
       "    </tr>\n",
       "    <tr>\n",
       "      <th>10</th>\n",
       "      <td>seg_llamad_ent</td>\n",
       "      <td>-0.023730</td>\n",
       "    </tr>\n",
       "    <tr>\n",
       "      <th>16</th>\n",
       "      <td>TV</td>\n",
       "      <td>-0.999080</td>\n",
       "    </tr>\n",
       "    <tr>\n",
       "      <th>0</th>\n",
       "      <td>edad</td>\n",
       "      <td>-1.959575</td>\n",
       "    </tr>\n",
       "    <tr>\n",
       "      <th>12</th>\n",
       "      <td>imp_financ</td>\n",
       "      <td>-2.180114</td>\n",
       "    </tr>\n",
       "  </tbody>\n",
       "</table>\n",
       "</div>"
      ],
      "text/plain": [
       "         variables      coef\n",
       "13      descuentos  3.020685\n",
       "5           num_dt  0.799709\n",
       "6       incidencia  0.696840\n",
       "14        conexion  0.341159\n",
       "15    vel_conexion  0.226205\n",
       "1      facturacion  0.047120\n",
       "7   num_llamad_ent  0.028896\n",
       "3        Comunidad  0.028463\n",
       "9         mb_datos  0.006354\n",
       "8   num_llamad_sal  0.001840\n",
       "11  seg_llamad_sal  0.000288\n",
       "2       antiguedad -0.018099\n",
       "4       num_lineas -0.022495\n",
       "10  seg_llamad_ent -0.023730\n",
       "16              TV -0.999080\n",
       "0             edad -1.959575\n",
       "12      imp_financ -2.180114"
      ]
     },
     "execution_count": 144,
     "metadata": {},
     "output_type": "execute_result"
    }
   ],
   "source": [
    "feature_importances = pd.concat([pd.DataFrame(df_churn.drop(columns = 'id').columns, columns = [\"variables\"]),\n",
    "           pd.DataFrame(np.transpose(classifier.coef_), columns = [\"coef\"])\n",
    "           ],axis = 1)\n",
    "\n",
    "feature_importances.sort_values(\"coef\", ascending = False)"
   ]
  },
  {
   "cell_type": "markdown",
   "metadata": {},
   "source": [
    "El modelo de regresion logistica predice que el ratio de fuga incrementara con descuentos, num_dt, incidencia y en el caso contrario tiene una correlacion negativa con imp_financ, edad, TV."
   ]
  },
  {
   "cell_type": "markdown",
   "metadata": {},
   "source": [
    "# Mejorar el Modelo"
   ]
  },
  {
   "cell_type": "markdown",
   "metadata": {},
   "source": [
    "#### Hyper parameter Tuning"
   ]
  },
  {
   "cell_type": "code",
   "execution_count": 166,
   "metadata": {},
   "outputs": [],
   "source": [
    "grid_param = {\n",
    "    'n_estimators': [100, 300, 500],\n",
    "    'max_depth': [7,8,9]\n",
    "}"
   ]
  },
  {
   "cell_type": "code",
   "execution_count": 167,
   "metadata": {},
   "outputs": [],
   "source": [
    "model_grid = GridSearchCV(estimator=rf_classifier,\n",
    "                     param_grid=grid_param,\n",
    "                     scoring='accuracy',\n",
    "                     cv=5,\n",
    "                     n_jobs=-1)"
   ]
  },
  {
   "cell_type": "code",
   "execution_count": 168,
   "metadata": {},
   "outputs": [
    {
     "data": {
      "text/plain": [
       "GridSearchCV(cv=5, estimator=RandomForestClassifier(), n_jobs=-1,\n",
       "             param_grid={'max_depth': [7, 8, 9],\n",
       "                         'n_estimators': [100, 300, 500]},\n",
       "             scoring='accuracy')"
      ]
     },
     "execution_count": 168,
     "metadata": {},
     "output_type": "execute_result"
    }
   ],
   "source": [
    "model_grid.fit(X_train, y_train)"
   ]
  },
  {
   "cell_type": "code",
   "execution_count": 169,
   "metadata": {},
   "outputs": [
    {
     "name": "stdout",
     "output_type": "stream",
     "text": [
      "{'max_depth': 9, 'n_estimators': 500}\n"
     ]
    }
   ],
   "source": [
    "print(model_grid.best_params_)"
   ]
  },
  {
   "cell_type": "code",
   "execution_count": 170,
   "metadata": {},
   "outputs": [
    {
     "name": "stdout",
     "output_type": "stream",
     "text": [
      "0.9640317834163807\n"
     ]
    }
   ],
   "source": [
    "print(model_grid.best_score_)"
   ]
  },
  {
   "cell_type": "code",
   "execution_count": 172,
   "metadata": {},
   "outputs": [
    {
     "data": {
      "text/plain": [
       "RandomForestClassifier(max_depth=10, n_estimators=500, random_state=0)"
      ]
     },
     "execution_count": 172,
     "metadata": {},
     "output_type": "execute_result"
    }
   ],
   "source": [
    "classifier = RandomForestClassifier(n_estimators = 500, max_depth=10, random_state = 0)\n",
    "classifier.fit(X_train, y_train)\n"
   ]
  },
  {
   "cell_type": "code",
   "execution_count": 174,
   "metadata": {},
   "outputs": [],
   "source": [
    "from sklearn.metrics import confusion_matrix, accuracy_score, f1_score, precision_score, recall_score\n",
    "acc = accuracy_score(y_test, y_pred )\n",
    "prec = precision_score(y_test, y_pred )\n",
    "rec = recall_score(y_test, y_pred )\n",
    "f1 = f1_score(y_test, y_pred )\n",
    "f2 = fbeta_score(y_test, y_pred, beta=2.0)\n",
    "\n",
    "model_results = pd.DataFrame([['Random Forest', acc, prec, rec, f1, f2]],\n",
    "               columns = ['Model', 'Accuracy', 'Precision', 'Recall', 'F1 Score', 'F2 Score'])\n",
    "\n",
    "results = results.append(model_results, ignore_index = True)"
   ]
  },
  {
   "cell_type": "code",
   "execution_count": 175,
   "metadata": {},
   "outputs": [
    {
     "name": "stdout",
     "output_type": "stream",
     "text": [
      "                 Model  Accuracy  Precision    Recall  F1 Score  F2 Score\n",
      "0        Random Forest  0.964125   0.900438  0.580805  0.706135  0.625190\n",
      "1  Logistic Regression  0.952498   0.841823  0.443190  0.580675  0.489554\n",
      "2        Decision Tree  0.939772   0.592516  0.603387  0.597902  0.601181\n",
      "3        Random Forest  0.964125   0.900438  0.580805  0.706135  0.625190\n"
     ]
    }
   ],
   "source": [
    "print(results)"
   ]
  },
  {
   "cell_type": "markdown",
   "metadata": {},
   "source": [
    "# Predicion"
   ]
  },
  {
   "cell_type": "code",
   "execution_count": 177,
   "metadata": {},
   "outputs": [
    {
     "ename": "ValueError",
     "evalue": "Input contains NaN, infinity or a value too large for dtype('float32').",
     "output_type": "error",
     "traceback": [
      "\u001b[1;31m---------------------------------------------------------------------------\u001b[0m",
      "\u001b[1;31mValueError\u001b[0m                                Traceback (most recent call last)",
      "\u001b[1;32m<ipython-input-177-f3e097992ae2>\u001b[0m in \u001b[0;36m<module>\u001b[1;34m\u001b[0m\n\u001b[1;32m----> 1\u001b[1;33m \u001b[0mclassifier\u001b[0m\u001b[1;33m.\u001b[0m\u001b[0mpredict\u001b[0m\u001b[1;33m(\u001b[0m\u001b[0mdf_enero\u001b[0m\u001b[1;33m)\u001b[0m\u001b[1;33m\u001b[0m\u001b[1;33m\u001b[0m\u001b[0m\n\u001b[0m",
      "\u001b[1;32mD:\\Anaconda\\lib\\site-packages\\sklearn\\ensemble\\_forest.py\u001b[0m in \u001b[0;36mpredict\u001b[1;34m(self, X)\u001b[0m\n\u001b[0;32m    628\u001b[0m             \u001b[0mThe\u001b[0m \u001b[0mpredicted\u001b[0m \u001b[0mclasses\u001b[0m\u001b[1;33m.\u001b[0m\u001b[1;33m\u001b[0m\u001b[1;33m\u001b[0m\u001b[0m\n\u001b[0;32m    629\u001b[0m         \"\"\"\n\u001b[1;32m--> 630\u001b[1;33m         \u001b[0mproba\u001b[0m \u001b[1;33m=\u001b[0m \u001b[0mself\u001b[0m\u001b[1;33m.\u001b[0m\u001b[0mpredict_proba\u001b[0m\u001b[1;33m(\u001b[0m\u001b[0mX\u001b[0m\u001b[1;33m)\u001b[0m\u001b[1;33m\u001b[0m\u001b[1;33m\u001b[0m\u001b[0m\n\u001b[0m\u001b[0;32m    631\u001b[0m \u001b[1;33m\u001b[0m\u001b[0m\n\u001b[0;32m    632\u001b[0m         \u001b[1;32mif\u001b[0m \u001b[0mself\u001b[0m\u001b[1;33m.\u001b[0m\u001b[0mn_outputs_\u001b[0m \u001b[1;33m==\u001b[0m \u001b[1;36m1\u001b[0m\u001b[1;33m:\u001b[0m\u001b[1;33m\u001b[0m\u001b[1;33m\u001b[0m\u001b[0m\n",
      "\u001b[1;32mD:\\Anaconda\\lib\\site-packages\\sklearn\\ensemble\\_forest.py\u001b[0m in \u001b[0;36mpredict_proba\u001b[1;34m(self, X)\u001b[0m\n\u001b[0;32m    672\u001b[0m         \u001b[0mcheck_is_fitted\u001b[0m\u001b[1;33m(\u001b[0m\u001b[0mself\u001b[0m\u001b[1;33m)\u001b[0m\u001b[1;33m\u001b[0m\u001b[1;33m\u001b[0m\u001b[0m\n\u001b[0;32m    673\u001b[0m         \u001b[1;31m# Check data\u001b[0m\u001b[1;33m\u001b[0m\u001b[1;33m\u001b[0m\u001b[1;33m\u001b[0m\u001b[0m\n\u001b[1;32m--> 674\u001b[1;33m         \u001b[0mX\u001b[0m \u001b[1;33m=\u001b[0m \u001b[0mself\u001b[0m\u001b[1;33m.\u001b[0m\u001b[0m_validate_X_predict\u001b[0m\u001b[1;33m(\u001b[0m\u001b[0mX\u001b[0m\u001b[1;33m)\u001b[0m\u001b[1;33m\u001b[0m\u001b[1;33m\u001b[0m\u001b[0m\n\u001b[0m\u001b[0;32m    675\u001b[0m \u001b[1;33m\u001b[0m\u001b[0m\n\u001b[0;32m    676\u001b[0m         \u001b[1;31m# Assign chunk of trees to jobs\u001b[0m\u001b[1;33m\u001b[0m\u001b[1;33m\u001b[0m\u001b[1;33m\u001b[0m\u001b[0m\n",
      "\u001b[1;32mD:\\Anaconda\\lib\\site-packages\\sklearn\\ensemble\\_forest.py\u001b[0m in \u001b[0;36m_validate_X_predict\u001b[1;34m(self, X)\u001b[0m\n\u001b[0;32m    420\u001b[0m         \u001b[0mcheck_is_fitted\u001b[0m\u001b[1;33m(\u001b[0m\u001b[0mself\u001b[0m\u001b[1;33m)\u001b[0m\u001b[1;33m\u001b[0m\u001b[1;33m\u001b[0m\u001b[0m\n\u001b[0;32m    421\u001b[0m \u001b[1;33m\u001b[0m\u001b[0m\n\u001b[1;32m--> 422\u001b[1;33m         \u001b[1;32mreturn\u001b[0m \u001b[0mself\u001b[0m\u001b[1;33m.\u001b[0m\u001b[0mestimators_\u001b[0m\u001b[1;33m[\u001b[0m\u001b[1;36m0\u001b[0m\u001b[1;33m]\u001b[0m\u001b[1;33m.\u001b[0m\u001b[0m_validate_X_predict\u001b[0m\u001b[1;33m(\u001b[0m\u001b[0mX\u001b[0m\u001b[1;33m,\u001b[0m \u001b[0mcheck_input\u001b[0m\u001b[1;33m=\u001b[0m\u001b[1;32mTrue\u001b[0m\u001b[1;33m)\u001b[0m\u001b[1;33m\u001b[0m\u001b[1;33m\u001b[0m\u001b[0m\n\u001b[0m\u001b[0;32m    423\u001b[0m \u001b[1;33m\u001b[0m\u001b[0m\n\u001b[0;32m    424\u001b[0m     \u001b[1;33m@\u001b[0m\u001b[0mproperty\u001b[0m\u001b[1;33m\u001b[0m\u001b[1;33m\u001b[0m\u001b[0m\n",
      "\u001b[1;32mD:\\Anaconda\\lib\\site-packages\\sklearn\\tree\\_classes.py\u001b[0m in \u001b[0;36m_validate_X_predict\u001b[1;34m(self, X, check_input)\u001b[0m\n\u001b[0;32m    400\u001b[0m         \u001b[1;34m\"\"\"Validate the training data on predict (probabilities).\"\"\"\u001b[0m\u001b[1;33m\u001b[0m\u001b[1;33m\u001b[0m\u001b[0m\n\u001b[0;32m    401\u001b[0m         \u001b[1;32mif\u001b[0m \u001b[0mcheck_input\u001b[0m\u001b[1;33m:\u001b[0m\u001b[1;33m\u001b[0m\u001b[1;33m\u001b[0m\u001b[0m\n\u001b[1;32m--> 402\u001b[1;33m             X = self._validate_data(X, dtype=DTYPE, accept_sparse=\"csr\",\n\u001b[0m\u001b[0;32m    403\u001b[0m                                     reset=False)\n\u001b[0;32m    404\u001b[0m             if issparse(X) and (X.indices.dtype != np.intc or\n",
      "\u001b[1;32mD:\\Anaconda\\lib\\site-packages\\sklearn\\base.py\u001b[0m in \u001b[0;36m_validate_data\u001b[1;34m(self, X, y, reset, validate_separately, **check_params)\u001b[0m\n\u001b[0;32m    419\u001b[0m             \u001b[0mout\u001b[0m \u001b[1;33m=\u001b[0m \u001b[0mX\u001b[0m\u001b[1;33m\u001b[0m\u001b[1;33m\u001b[0m\u001b[0m\n\u001b[0;32m    420\u001b[0m         \u001b[1;32melif\u001b[0m \u001b[0misinstance\u001b[0m\u001b[1;33m(\u001b[0m\u001b[0my\u001b[0m\u001b[1;33m,\u001b[0m \u001b[0mstr\u001b[0m\u001b[1;33m)\u001b[0m \u001b[1;32mand\u001b[0m \u001b[0my\u001b[0m \u001b[1;33m==\u001b[0m \u001b[1;34m'no_validation'\u001b[0m\u001b[1;33m:\u001b[0m\u001b[1;33m\u001b[0m\u001b[1;33m\u001b[0m\u001b[0m\n\u001b[1;32m--> 421\u001b[1;33m             \u001b[0mX\u001b[0m \u001b[1;33m=\u001b[0m \u001b[0mcheck_array\u001b[0m\u001b[1;33m(\u001b[0m\u001b[0mX\u001b[0m\u001b[1;33m,\u001b[0m \u001b[1;33m**\u001b[0m\u001b[0mcheck_params\u001b[0m\u001b[1;33m)\u001b[0m\u001b[1;33m\u001b[0m\u001b[1;33m\u001b[0m\u001b[0m\n\u001b[0m\u001b[0;32m    422\u001b[0m             \u001b[0mout\u001b[0m \u001b[1;33m=\u001b[0m \u001b[0mX\u001b[0m\u001b[1;33m\u001b[0m\u001b[1;33m\u001b[0m\u001b[0m\n\u001b[0;32m    423\u001b[0m         \u001b[1;32melse\u001b[0m\u001b[1;33m:\u001b[0m\u001b[1;33m\u001b[0m\u001b[1;33m\u001b[0m\u001b[0m\n",
      "\u001b[1;32mD:\\Anaconda\\lib\\site-packages\\sklearn\\utils\\validation.py\u001b[0m in \u001b[0;36minner_f\u001b[1;34m(*args, **kwargs)\u001b[0m\n\u001b[0;32m     61\u001b[0m             \u001b[0mextra_args\u001b[0m \u001b[1;33m=\u001b[0m \u001b[0mlen\u001b[0m\u001b[1;33m(\u001b[0m\u001b[0margs\u001b[0m\u001b[1;33m)\u001b[0m \u001b[1;33m-\u001b[0m \u001b[0mlen\u001b[0m\u001b[1;33m(\u001b[0m\u001b[0mall_args\u001b[0m\u001b[1;33m)\u001b[0m\u001b[1;33m\u001b[0m\u001b[1;33m\u001b[0m\u001b[0m\n\u001b[0;32m     62\u001b[0m             \u001b[1;32mif\u001b[0m \u001b[0mextra_args\u001b[0m \u001b[1;33m<=\u001b[0m \u001b[1;36m0\u001b[0m\u001b[1;33m:\u001b[0m\u001b[1;33m\u001b[0m\u001b[1;33m\u001b[0m\u001b[0m\n\u001b[1;32m---> 63\u001b[1;33m                 \u001b[1;32mreturn\u001b[0m \u001b[0mf\u001b[0m\u001b[1;33m(\u001b[0m\u001b[1;33m*\u001b[0m\u001b[0margs\u001b[0m\u001b[1;33m,\u001b[0m \u001b[1;33m**\u001b[0m\u001b[0mkwargs\u001b[0m\u001b[1;33m)\u001b[0m\u001b[1;33m\u001b[0m\u001b[1;33m\u001b[0m\u001b[0m\n\u001b[0m\u001b[0;32m     64\u001b[0m \u001b[1;33m\u001b[0m\u001b[0m\n\u001b[0;32m     65\u001b[0m             \u001b[1;31m# extra_args > 0\u001b[0m\u001b[1;33m\u001b[0m\u001b[1;33m\u001b[0m\u001b[1;33m\u001b[0m\u001b[0m\n",
      "\u001b[1;32mD:\\Anaconda\\lib\\site-packages\\sklearn\\utils\\validation.py\u001b[0m in \u001b[0;36mcheck_array\u001b[1;34m(array, accept_sparse, accept_large_sparse, dtype, order, copy, force_all_finite, ensure_2d, allow_nd, ensure_min_samples, ensure_min_features, estimator)\u001b[0m\n\u001b[0;32m    661\u001b[0m \u001b[1;33m\u001b[0m\u001b[0m\n\u001b[0;32m    662\u001b[0m         \u001b[1;32mif\u001b[0m \u001b[0mforce_all_finite\u001b[0m\u001b[1;33m:\u001b[0m\u001b[1;33m\u001b[0m\u001b[1;33m\u001b[0m\u001b[0m\n\u001b[1;32m--> 663\u001b[1;33m             _assert_all_finite(array,\n\u001b[0m\u001b[0;32m    664\u001b[0m                                allow_nan=force_all_finite == 'allow-nan')\n\u001b[0;32m    665\u001b[0m \u001b[1;33m\u001b[0m\u001b[0m\n",
      "\u001b[1;32mD:\\Anaconda\\lib\\site-packages\\sklearn\\utils\\validation.py\u001b[0m in \u001b[0;36m_assert_all_finite\u001b[1;34m(X, allow_nan, msg_dtype)\u001b[0m\n\u001b[0;32m    101\u001b[0m                 not allow_nan and not np.isfinite(X).all()):\n\u001b[0;32m    102\u001b[0m             \u001b[0mtype_err\u001b[0m \u001b[1;33m=\u001b[0m \u001b[1;34m'infinity'\u001b[0m \u001b[1;32mif\u001b[0m \u001b[0mallow_nan\u001b[0m \u001b[1;32melse\u001b[0m \u001b[1;34m'NaN, infinity'\u001b[0m\u001b[1;33m\u001b[0m\u001b[1;33m\u001b[0m\u001b[0m\n\u001b[1;32m--> 103\u001b[1;33m             raise ValueError(\n\u001b[0m\u001b[0;32m    104\u001b[0m                     \u001b[0mmsg_err\u001b[0m\u001b[1;33m.\u001b[0m\u001b[0mformat\u001b[0m\u001b[1;33m\u001b[0m\u001b[1;33m\u001b[0m\u001b[0m\n\u001b[0;32m    105\u001b[0m                     (type_err,\n",
      "\u001b[1;31mValueError\u001b[0m: Input contains NaN, infinity or a value too large for dtype('float32')."
     ]
    }
   ],
   "source": [
    "classifier.predict(df_enero)"
   ]
  },
  {
   "cell_type": "code",
   "execution_count": 176,
   "metadata": {},
   "outputs": [
    {
     "data": {
      "text/html": [
       "<div>\n",
       "<style scoped>\n",
       "    .dataframe tbody tr th:only-of-type {\n",
       "        vertical-align: middle;\n",
       "    }\n",
       "\n",
       "    .dataframe tbody tr th {\n",
       "        vertical-align: top;\n",
       "    }\n",
       "\n",
       "    .dataframe thead th {\n",
       "        text-align: right;\n",
       "    }\n",
       "</style>\n",
       "<table border=\"1\" class=\"dataframe\">\n",
       "  <thead>\n",
       "    <tr style=\"text-align: right;\">\n",
       "      <th></th>\n",
       "      <th>id</th>\n",
       "      <th>edad</th>\n",
       "      <th>facturacion</th>\n",
       "      <th>antiguedad</th>\n",
       "      <th>Comunidad</th>\n",
       "      <th>num_lineas</th>\n",
       "      <th>num_dt</th>\n",
       "      <th>incidencia</th>\n",
       "      <th>num_llamad_ent</th>\n",
       "      <th>num_llamad_sal</th>\n",
       "      <th>mb_datos</th>\n",
       "      <th>seg_llamad_ent</th>\n",
       "      <th>seg_llamad_sal</th>\n",
       "      <th>imp_financ</th>\n",
       "      <th>descuentos</th>\n",
       "      <th>conexion</th>\n",
       "      <th>vel_conexion</th>\n",
       "      <th>TV</th>\n",
       "    </tr>\n",
       "  </thead>\n",
       "  <tbody>\n",
       "    <tr>\n",
       "      <th>0</th>\n",
       "      <td>1</td>\n",
       "      <td>63</td>\n",
       "      <td>216.028109</td>\n",
       "      <td>403</td>\n",
       "      <td>17</td>\n",
       "      <td>5</td>\n",
       "      <td>0.0</td>\n",
       "      <td>0.0</td>\n",
       "      <td>110</td>\n",
       "      <td>79</td>\n",
       "      <td>10897</td>\n",
       "      <td>12806</td>\n",
       "      <td>13751</td>\n",
       "      <td>0.000000</td>\n",
       "      <td>1.0</td>\n",
       "      <td>1</td>\n",
       "      <td>50</td>\n",
       "      <td>1.0</td>\n",
       "    </tr>\n",
       "    <tr>\n",
       "      <th>1</th>\n",
       "      <td>2</td>\n",
       "      <td>84</td>\n",
       "      <td>255.830842</td>\n",
       "      <td>861</td>\n",
       "      <td>8</td>\n",
       "      <td>3</td>\n",
       "      <td>0.0</td>\n",
       "      <td>0.0</td>\n",
       "      <td>189</td>\n",
       "      <td>89</td>\n",
       "      <td>18657</td>\n",
       "      <td>6499</td>\n",
       "      <td>10862</td>\n",
       "      <td>0.000000</td>\n",
       "      <td>0.0</td>\n",
       "      <td>1</td>\n",
       "      <td>600</td>\n",
       "      <td>1.0</td>\n",
       "    </tr>\n",
       "    <tr>\n",
       "      <th>2</th>\n",
       "      <td>3</td>\n",
       "      <td>66</td>\n",
       "      <td>135.768153</td>\n",
       "      <td>6578</td>\n",
       "      <td>9</td>\n",
       "      <td>4</td>\n",
       "      <td>0.0</td>\n",
       "      <td>0.0</td>\n",
       "      <td>129</td>\n",
       "      <td>30</td>\n",
       "      <td>15511</td>\n",
       "      <td>17013</td>\n",
       "      <td>16743</td>\n",
       "      <td>0.000000</td>\n",
       "      <td>0.0</td>\n",
       "      <td>2</td>\n",
       "      <td>35</td>\n",
       "      <td>1.0</td>\n",
       "    </tr>\n",
       "    <tr>\n",
       "      <th>3</th>\n",
       "      <td>4</td>\n",
       "      <td>69</td>\n",
       "      <td>255.658527</td>\n",
       "      <td>1606</td>\n",
       "      <td>5</td>\n",
       "      <td>4</td>\n",
       "      <td>0.0</td>\n",
       "      <td>0.0</td>\n",
       "      <td>51</td>\n",
       "      <td>52</td>\n",
       "      <td>12670</td>\n",
       "      <td>3393</td>\n",
       "      <td>6771</td>\n",
       "      <td>0.000000</td>\n",
       "      <td>1.0</td>\n",
       "      <td>1</td>\n",
       "      <td>200</td>\n",
       "      <td>2.0</td>\n",
       "    </tr>\n",
       "    <tr>\n",
       "      <th>4</th>\n",
       "      <td>5</td>\n",
       "      <td>30</td>\n",
       "      <td>22.302845</td>\n",
       "      <td>8159</td>\n",
       "      <td>2</td>\n",
       "      <td>2</td>\n",
       "      <td>2.0</td>\n",
       "      <td>0.0</td>\n",
       "      <td>183</td>\n",
       "      <td>3</td>\n",
       "      <td>23756</td>\n",
       "      <td>18436</td>\n",
       "      <td>4485</td>\n",
       "      <td>0.000000</td>\n",
       "      <td>1.0</td>\n",
       "      <td>2</td>\n",
       "      <td>10</td>\n",
       "      <td>1.0</td>\n",
       "    </tr>\n",
       "    <tr>\n",
       "      <th>...</th>\n",
       "      <td>...</td>\n",
       "      <td>...</td>\n",
       "      <td>...</td>\n",
       "      <td>...</td>\n",
       "      <td>...</td>\n",
       "      <td>...</td>\n",
       "      <td>...</td>\n",
       "      <td>...</td>\n",
       "      <td>...</td>\n",
       "      <td>...</td>\n",
       "      <td>...</td>\n",
       "      <td>...</td>\n",
       "      <td>...</td>\n",
       "      <td>...</td>\n",
       "      <td>...</td>\n",
       "      <td>...</td>\n",
       "      <td>...</td>\n",
       "      <td>...</td>\n",
       "    </tr>\n",
       "    <tr>\n",
       "      <th>95462</th>\n",
       "      <td>99995</td>\n",
       "      <td>65</td>\n",
       "      <td>173.741667</td>\n",
       "      <td>301</td>\n",
       "      <td>10</td>\n",
       "      <td>5</td>\n",
       "      <td>0.0</td>\n",
       "      <td>0.0</td>\n",
       "      <td>121</td>\n",
       "      <td>98</td>\n",
       "      <td>13403</td>\n",
       "      <td>6197</td>\n",
       "      <td>6853</td>\n",
       "      <td>23.138779</td>\n",
       "      <td>1.0</td>\n",
       "      <td>2</td>\n",
       "      <td>35</td>\n",
       "      <td>2.0</td>\n",
       "    </tr>\n",
       "    <tr>\n",
       "      <th>95463</th>\n",
       "      <td>99996</td>\n",
       "      <td>36</td>\n",
       "      <td>215.890326</td>\n",
       "      <td>2457</td>\n",
       "      <td>9</td>\n",
       "      <td>3</td>\n",
       "      <td>0.0</td>\n",
       "      <td>0.0</td>\n",
       "      <td>98</td>\n",
       "      <td>13</td>\n",
       "      <td>5291</td>\n",
       "      <td>3684</td>\n",
       "      <td>1667</td>\n",
       "      <td>0.000000</td>\n",
       "      <td>1.0</td>\n",
       "      <td>2</td>\n",
       "      <td>30</td>\n",
       "      <td>1.0</td>\n",
       "    </tr>\n",
       "    <tr>\n",
       "      <th>95464</th>\n",
       "      <td>99997</td>\n",
       "      <td>68</td>\n",
       "      <td>285.890750</td>\n",
       "      <td>5989</td>\n",
       "      <td>14</td>\n",
       "      <td>5</td>\n",
       "      <td>0.0</td>\n",
       "      <td>0.0</td>\n",
       "      <td>226</td>\n",
       "      <td>20</td>\n",
       "      <td>20002</td>\n",
       "      <td>572</td>\n",
       "      <td>5679</td>\n",
       "      <td>14.616422</td>\n",
       "      <td>1.0</td>\n",
       "      <td>1</td>\n",
       "      <td>200</td>\n",
       "      <td>1.0</td>\n",
       "    </tr>\n",
       "    <tr>\n",
       "      <th>95465</th>\n",
       "      <td>99998</td>\n",
       "      <td>20</td>\n",
       "      <td>383.167610</td>\n",
       "      <td>2470</td>\n",
       "      <td>8</td>\n",
       "      <td>4</td>\n",
       "      <td>0.0</td>\n",
       "      <td>0.0</td>\n",
       "      <td>126</td>\n",
       "      <td>26</td>\n",
       "      <td>16448</td>\n",
       "      <td>833</td>\n",
       "      <td>14398</td>\n",
       "      <td>0.000000</td>\n",
       "      <td>1.0</td>\n",
       "      <td>2</td>\n",
       "      <td>20</td>\n",
       "      <td>1.0</td>\n",
       "    </tr>\n",
       "    <tr>\n",
       "      <th>95466</th>\n",
       "      <td>100000</td>\n",
       "      <td>18</td>\n",
       "      <td>57.158927</td>\n",
       "      <td>3722</td>\n",
       "      <td>7</td>\n",
       "      <td>4</td>\n",
       "      <td>0.0</td>\n",
       "      <td>0.0</td>\n",
       "      <td>85</td>\n",
       "      <td>25</td>\n",
       "      <td>17933</td>\n",
       "      <td>18617</td>\n",
       "      <td>2115</td>\n",
       "      <td>0.000000</td>\n",
       "      <td>0.0</td>\n",
       "      <td>2</td>\n",
       "      <td>25</td>\n",
       "      <td>2.0</td>\n",
       "    </tr>\n",
       "  </tbody>\n",
       "</table>\n",
       "<p>95467 rows × 18 columns</p>\n",
       "</div>"
      ],
      "text/plain": [
       "           id  edad  facturacion  antiguedad  Comunidad  num_lineas  num_dt  \\\n",
       "0           1    63   216.028109         403         17           5     0.0   \n",
       "1           2    84   255.830842         861          8           3     0.0   \n",
       "2           3    66   135.768153        6578          9           4     0.0   \n",
       "3           4    69   255.658527        1606          5           4     0.0   \n",
       "4           5    30    22.302845        8159          2           2     2.0   \n",
       "...       ...   ...          ...         ...        ...         ...     ...   \n",
       "95462   99995    65   173.741667         301         10           5     0.0   \n",
       "95463   99996    36   215.890326        2457          9           3     0.0   \n",
       "95464   99997    68   285.890750        5989         14           5     0.0   \n",
       "95465   99998    20   383.167610        2470          8           4     0.0   \n",
       "95466  100000    18    57.158927        3722          7           4     0.0   \n",
       "\n",
       "       incidencia  num_llamad_ent  num_llamad_sal  mb_datos  seg_llamad_ent  \\\n",
       "0             0.0             110              79     10897           12806   \n",
       "1             0.0             189              89     18657            6499   \n",
       "2             0.0             129              30     15511           17013   \n",
       "3             0.0              51              52     12670            3393   \n",
       "4             0.0             183               3     23756           18436   \n",
       "...           ...             ...             ...       ...             ...   \n",
       "95462         0.0             121              98     13403            6197   \n",
       "95463         0.0              98              13      5291            3684   \n",
       "95464         0.0             226              20     20002             572   \n",
       "95465         0.0             126              26     16448             833   \n",
       "95466         0.0              85              25     17933           18617   \n",
       "\n",
       "       seg_llamad_sal  imp_financ  descuentos  conexion  vel_conexion   TV  \n",
       "0               13751    0.000000         1.0         1            50  1.0  \n",
       "1               10862    0.000000         0.0         1           600  1.0  \n",
       "2               16743    0.000000         0.0         2            35  1.0  \n",
       "3                6771    0.000000         1.0         1           200  2.0  \n",
       "4                4485    0.000000         1.0         2            10  1.0  \n",
       "...               ...         ...         ...       ...           ...  ...  \n",
       "95462            6853   23.138779         1.0         2            35  2.0  \n",
       "95463            1667    0.000000         1.0         2            30  1.0  \n",
       "95464            5679   14.616422         1.0         1           200  1.0  \n",
       "95465           14398    0.000000         1.0         2            20  1.0  \n",
       "95466            2115    0.000000         0.0         2            25  2.0  \n",
       "\n",
       "[95467 rows x 18 columns]"
      ]
     },
     "execution_count": 176,
     "metadata": {},
     "output_type": "execute_result"
    }
   ],
   "source": [
    "df_churn"
   ]
  }
 ],
 "metadata": {
  "interpreter": {
   "hash": "07efdcd4b820c98a756949507a4d29d7862823915ec7477944641bea022f4f62"
  },
  "kernelspec": {
   "display_name": "Python 3.8.8 64-bit ('base': conda)",
   "language": "python",
   "name": "python3"
  },
  "language_info": {
   "codemirror_mode": {
    "name": "ipython",
    "version": 3
   },
   "file_extension": ".py",
   "mimetype": "text/x-python",
   "name": "python",
   "nbconvert_exporter": "python",
   "pygments_lexer": "ipython3",
   "version": "3.8.8"
  },
  "orig_nbformat": 4
 },
 "nbformat": 4,
 "nbformat_minor": 2
}
